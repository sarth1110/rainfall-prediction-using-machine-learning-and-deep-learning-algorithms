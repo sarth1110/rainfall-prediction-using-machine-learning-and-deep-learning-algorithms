{
 "cells": [
  {
   "cell_type": "code",
   "execution_count": 1,
   "id": "aed74c18",
   "metadata": {},
   "outputs": [
    {
     "name": "stderr",
     "output_type": "stream",
     "text": [
      "<frozen importlib._bootstrap>:219: RuntimeWarning: scipy._lib.messagestream.MessageStream size changed, may indicate binary incompatibility. Expected 56 from C header, got 64 from PyObject\n"
     ]
    }
   ],
   "source": [
    "import pandas as pd\n",
    "import numpy as np\n",
    "\n",
    "from keras.layers import Dense,LSTM,Dropout\n",
    "from keras.models import Sequential\n",
    "\n",
    "from sklearn.preprocessing import LabelEncoder\n",
    "from sklearn.model_selection import train_test_split\n",
    "from sklearn.preprocessing import MinMaxScaler,StandardScaler\n"
   ]
  },
  {
   "cell_type": "code",
   "execution_count": 2,
   "id": "ff7c5a0d",
   "metadata": {},
   "outputs": [],
   "source": [
    "#Reading the CSV file\n",
    "df = pd.read_csv(\"Datasets/cleaned_weatherAUS.csv\")"
   ]
  },
  {
   "cell_type": "code",
   "execution_count": 3,
   "id": "60975cbe",
   "metadata": {},
   "outputs": [
    {
     "data": {
      "text/html": [
       "<div>\n",
       "<style scoped>\n",
       "    .dataframe tbody tr th:only-of-type {\n",
       "        vertical-align: middle;\n",
       "    }\n",
       "\n",
       "    .dataframe tbody tr th {\n",
       "        vertical-align: top;\n",
       "    }\n",
       "\n",
       "    .dataframe thead th {\n",
       "        text-align: right;\n",
       "    }\n",
       "</style>\n",
       "<table border=\"1\" class=\"dataframe\">\n",
       "  <thead>\n",
       "    <tr style=\"text-align: right;\">\n",
       "      <th></th>\n",
       "      <th>Date</th>\n",
       "      <th>Location</th>\n",
       "      <th>MinTemp</th>\n",
       "      <th>MaxTemp</th>\n",
       "      <th>Rainfall</th>\n",
       "      <th>WindGustDir</th>\n",
       "      <th>WindGustSpeed</th>\n",
       "      <th>WindDir9am</th>\n",
       "      <th>WindDir3pm</th>\n",
       "      <th>WindSpeed9am</th>\n",
       "      <th>WindSpeed3pm</th>\n",
       "      <th>Humidity9am</th>\n",
       "      <th>Humidity3pm</th>\n",
       "      <th>Pressure9am</th>\n",
       "      <th>Pressure3pm</th>\n",
       "      <th>Temp9am</th>\n",
       "      <th>Temp3pm</th>\n",
       "      <th>RainToday</th>\n",
       "      <th>RainTomorrow</th>\n",
       "      <th>Month</th>\n",
       "    </tr>\n",
       "  </thead>\n",
       "  <tbody>\n",
       "    <tr>\n",
       "      <th>0</th>\n",
       "      <td>2009-09-02</td>\n",
       "      <td>Albury</td>\n",
       "      <td>1.0</td>\n",
       "      <td>16.8</td>\n",
       "      <td>0.0</td>\n",
       "      <td>ESE</td>\n",
       "      <td>24.0</td>\n",
       "      <td>ESE</td>\n",
       "      <td>E</td>\n",
       "      <td>9.0</td>\n",
       "      <td>9.0</td>\n",
       "      <td>82.0</td>\n",
       "      <td>45.0</td>\n",
       "      <td>1024.9</td>\n",
       "      <td>1020.2</td>\n",
       "      <td>7.0</td>\n",
       "      <td>16.0</td>\n",
       "      <td>No</td>\n",
       "      <td>No</td>\n",
       "      <td>9</td>\n",
       "    </tr>\n",
       "    <tr>\n",
       "      <th>1</th>\n",
       "      <td>2009-09-03</td>\n",
       "      <td>Albury</td>\n",
       "      <td>6.1</td>\n",
       "      <td>20.7</td>\n",
       "      <td>0.0</td>\n",
       "      <td>NE</td>\n",
       "      <td>43.0</td>\n",
       "      <td>SE</td>\n",
       "      <td>NE</td>\n",
       "      <td>4.0</td>\n",
       "      <td>24.0</td>\n",
       "      <td>80.0</td>\n",
       "      <td>54.0</td>\n",
       "      <td>1016.6</td>\n",
       "      <td>1010.8</td>\n",
       "      <td>10.2</td>\n",
       "      <td>20.3</td>\n",
       "      <td>No</td>\n",
       "      <td>Yes</td>\n",
       "      <td>9</td>\n",
       "    </tr>\n",
       "    <tr>\n",
       "      <th>2</th>\n",
       "      <td>2009-09-04</td>\n",
       "      <td>Albury</td>\n",
       "      <td>6.3</td>\n",
       "      <td>16.9</td>\n",
       "      <td>1.4</td>\n",
       "      <td>NW</td>\n",
       "      <td>35.0</td>\n",
       "      <td>ESE</td>\n",
       "      <td>WNW</td>\n",
       "      <td>6.0</td>\n",
       "      <td>13.0</td>\n",
       "      <td>85.0</td>\n",
       "      <td>58.0</td>\n",
       "      <td>1014.4</td>\n",
       "      <td>1012.3</td>\n",
       "      <td>12.5</td>\n",
       "      <td>15.5</td>\n",
       "      <td>Yes</td>\n",
       "      <td>No</td>\n",
       "      <td>9</td>\n",
       "    </tr>\n",
       "    <tr>\n",
       "      <th>3</th>\n",
       "      <td>2009-09-05</td>\n",
       "      <td>Albury</td>\n",
       "      <td>2.1</td>\n",
       "      <td>15.0</td>\n",
       "      <td>0.0</td>\n",
       "      <td>WNW</td>\n",
       "      <td>30.0</td>\n",
       "      <td>ESE</td>\n",
       "      <td>NW</td>\n",
       "      <td>4.0</td>\n",
       "      <td>11.0</td>\n",
       "      <td>81.0</td>\n",
       "      <td>54.0</td>\n",
       "      <td>1019.5</td>\n",
       "      <td>1017.9</td>\n",
       "      <td>8.6</td>\n",
       "      <td>14.9</td>\n",
       "      <td>No</td>\n",
       "      <td>No</td>\n",
       "      <td>9</td>\n",
       "    </tr>\n",
       "    <tr>\n",
       "      <th>4</th>\n",
       "      <td>2009-09-06</td>\n",
       "      <td>Albury</td>\n",
       "      <td>1.6</td>\n",
       "      <td>16.6</td>\n",
       "      <td>0.0</td>\n",
       "      <td>NE</td>\n",
       "      <td>37.0</td>\n",
       "      <td>SE</td>\n",
       "      <td>NE</td>\n",
       "      <td>9.0</td>\n",
       "      <td>20.0</td>\n",
       "      <td>79.0</td>\n",
       "      <td>47.0</td>\n",
       "      <td>1018.4</td>\n",
       "      <td>1011.4</td>\n",
       "      <td>8.3</td>\n",
       "      <td>15.4</td>\n",
       "      <td>No</td>\n",
       "      <td>No</td>\n",
       "      <td>9</td>\n",
       "    </tr>\n",
       "  </tbody>\n",
       "</table>\n",
       "</div>"
      ],
      "text/plain": [
       "         Date Location  MinTemp  MaxTemp  Rainfall WindGustDir  WindGustSpeed  \\\n",
       "0  2009-09-02   Albury      1.0     16.8       0.0         ESE           24.0   \n",
       "1  2009-09-03   Albury      6.1     20.7       0.0          NE           43.0   \n",
       "2  2009-09-04   Albury      6.3     16.9       1.4          NW           35.0   \n",
       "3  2009-09-05   Albury      2.1     15.0       0.0         WNW           30.0   \n",
       "4  2009-09-06   Albury      1.6     16.6       0.0          NE           37.0   \n",
       "\n",
       "  WindDir9am WindDir3pm  WindSpeed9am  WindSpeed3pm  Humidity9am  Humidity3pm  \\\n",
       "0        ESE          E           9.0           9.0         82.0         45.0   \n",
       "1         SE         NE           4.0          24.0         80.0         54.0   \n",
       "2        ESE        WNW           6.0          13.0         85.0         58.0   \n",
       "3        ESE         NW           4.0          11.0         81.0         54.0   \n",
       "4         SE         NE           9.0          20.0         79.0         47.0   \n",
       "\n",
       "   Pressure9am  Pressure3pm  Temp9am  Temp3pm RainToday RainTomorrow  Month  \n",
       "0       1024.9       1020.2      7.0     16.0        No           No      9  \n",
       "1       1016.6       1010.8     10.2     20.3        No          Yes      9  \n",
       "2       1014.4       1012.3     12.5     15.5       Yes           No      9  \n",
       "3       1019.5       1017.9      8.6     14.9        No           No      9  \n",
       "4       1018.4       1011.4      8.3     15.4        No           No      9  "
      ]
     },
     "execution_count": 3,
     "metadata": {},
     "output_type": "execute_result"
    }
   ],
   "source": [
    "df.head()"
   ]
  },
  {
   "cell_type": "code",
   "execution_count": 4,
   "id": "e9028c48",
   "metadata": {},
   "outputs": [
    {
     "name": "stdout",
     "output_type": "stream",
     "text": [
      "<class 'pandas.core.frame.DataFrame'>\n",
      "RangeIndex: 109523 entries, 0 to 109522\n",
      "Data columns (total 20 columns):\n",
      " #   Column         Non-Null Count   Dtype  \n",
      "---  ------         --------------   -----  \n",
      " 0   Date           109523 non-null  object \n",
      " 1   Location       109523 non-null  object \n",
      " 2   MinTemp        109523 non-null  float64\n",
      " 3   MaxTemp        109523 non-null  float64\n",
      " 4   Rainfall       109523 non-null  float64\n",
      " 5   WindGustDir    109523 non-null  object \n",
      " 6   WindGustSpeed  109523 non-null  float64\n",
      " 7   WindDir9am     109523 non-null  object \n",
      " 8   WindDir3pm     109523 non-null  object \n",
      " 9   WindSpeed9am   109523 non-null  float64\n",
      " 10  WindSpeed3pm   109523 non-null  float64\n",
      " 11  Humidity9am    109523 non-null  float64\n",
      " 12  Humidity3pm    109523 non-null  float64\n",
      " 13  Pressure9am    109523 non-null  float64\n",
      " 14  Pressure3pm    109523 non-null  float64\n",
      " 15  Temp9am        109523 non-null  float64\n",
      " 16  Temp3pm        109523 non-null  float64\n",
      " 17  RainToday      109523 non-null  object \n",
      " 18  RainTomorrow   109523 non-null  object \n",
      " 19  Month          109523 non-null  int64  \n",
      "dtypes: float64(12), int64(1), object(7)\n",
      "memory usage: 16.7+ MB\n"
     ]
    }
   ],
   "source": [
    "df.info()"
   ]
  },
  {
   "cell_type": "code",
   "execution_count": 5,
   "id": "987d27b2",
   "metadata": {},
   "outputs": [
    {
     "data": {
      "text/plain": [
       "Date             0.0\n",
       "Location         0.0\n",
       "MinTemp          0.0\n",
       "MaxTemp          0.0\n",
       "Rainfall         0.0\n",
       "WindGustDir      0.0\n",
       "WindGustSpeed    0.0\n",
       "WindDir9am       0.0\n",
       "WindDir3pm       0.0\n",
       "WindSpeed9am     0.0\n",
       "WindSpeed3pm     0.0\n",
       "Humidity9am      0.0\n",
       "Humidity3pm      0.0\n",
       "Pressure9am      0.0\n",
       "Pressure3pm      0.0\n",
       "Temp9am          0.0\n",
       "Temp3pm          0.0\n",
       "RainToday        0.0\n",
       "RainTomorrow     0.0\n",
       "Month            0.0\n",
       "dtype: float64"
      ]
     },
     "execution_count": 5,
     "metadata": {},
     "output_type": "execute_result"
    }
   ],
   "source": [
    "df.isna().mean().round(4) * 100"
   ]
  },
  {
   "cell_type": "code",
   "execution_count": 6,
   "id": "9a054f59",
   "metadata": {},
   "outputs": [
    {
     "name": "stdout",
     "output_type": "stream",
     "text": [
      "{'N': 0, 'NNE': 22.5, 'NE': 45.0, 'ENE': 67.5, 'E': 90.0, 'ESE': 112.5, 'SE': 135.0, 'SSE': 157.5, 'S': 180.0, 'SSW': 202.5, 'SW': 225.0, 'WSW': 247.5, 'W': 270.0, 'WNW': 292.5, 'NW': 315.0, 'NNW': 337.5}\n"
     ]
    }
   ],
   "source": [
    "Direction = ['N','NNE','NE','ENE','E','ESE','SE','SSE','S','SSW','SW','WSW','W','WNW','NW','NNW']\n",
    "Degree = []\n",
    "\n",
    "x = 0\n",
    "for i in range(0,337,22):\n",
    "    Degree.append(i+x)\n",
    "    x = x + 0.5\n",
    "    \n",
    "Direction_Degree = dict(zip(Direction,Degree))\n",
    "print(Direction_Degree)\n",
    "\n",
    "#Converting WindGustDir, WindDir9am, WindDir3pm to degree format\n",
    "\n",
    "df = df.replace({\"WindGustDir\": Direction_Degree})\n",
    "df = df.replace({\"WindDir9am\": Direction_Degree})\n",
    "df = df.replace({\"WindDir3pm\": Direction_Degree})"
   ]
  },
  {
   "cell_type": "code",
   "execution_count": 8,
   "id": "6211e2b1",
   "metadata": {},
   "outputs": [],
   "source": [
    "df = df.drop(columns=['WindGustDir','WindDir9am','WindDir3pm','Month'])"
   ]
  },
  {
   "cell_type": "code",
   "execution_count": 10,
   "id": "f2e94837",
   "metadata": {},
   "outputs": [
    {
     "data": {
      "image/png": "[encoded data removed]",
      "text/plain": [
       "<Figure size 1152x576 with 2 Axes>"
      ]
     },
     "metadata": {
      "needs_background": "light"
     },
     "output_type": "display_data"
    }
   ],
   "source": [
    "# Let's also draw a heatmap visualization of the correlation matrix\n",
    "import matplotlib.pyplot as plt\n",
    "import seaborn as sns\n",
    "corr_matrix = df.corr(method='spearman')\n",
    "f, ax = plt.subplots(figsize=(16,8))\n",
    "sns.heatmap(corr_matrix, annot=True, fmt='.2f', linewidth=0.4,\n",
    "            annot_kws={\"size\": 10}, cmap='coolwarm', ax=ax)\n",
    "plt.xticks(fontsize=10)\n",
    "plt.yticks(fontsize=10)\n",
    "plt.show()"
   ]
  },
  {
   "cell_type": "code",
   "execution_count": 11,
   "id": "88ce0903",
   "metadata": {},
   "outputs": [
    {
     "data": {
      "text/plain": [
       "0        2009-09-02\n",
       "1        2009-09-03\n",
       "2        2009-09-04\n",
       "3        2009-09-05\n",
       "4        2009-09-06\n",
       "            ...    \n",
       "109518   2017-06-20\n",
       "109519   2017-06-21\n",
       "109520   2017-06-22\n",
       "109521   2017-06-23\n",
       "109522   2017-06-24\n",
       "Name: Date, Length: 109523, dtype: datetime64[ns]"
      ]
     },
     "execution_count": 11,
     "metadata": {},
     "output_type": "execute_result"
    }
   ],
   "source": [
    "# Converting date to date_time objects for plotting the data\n",
    "train_dates = pd.to_datetime(df['Date'])\n",
    "train_dates"
   ]
  },
  {
   "cell_type": "code",
   "execution_count": 12,
   "id": "a5fba8c6",
   "metadata": {},
   "outputs": [],
   "source": [
    "df = df.drop(columns = ['Date','Location'],axis=1)"
   ]
  },
  {
   "cell_type": "code",
   "execution_count": 13,
   "id": "a4484d46",
   "metadata": {},
   "outputs": [
    {
     "data": {
      "text/html": [
       "<div>\n",
       "<style scoped>\n",
       "    .dataframe tbody tr th:only-of-type {\n",
       "        vertical-align: middle;\n",
       "    }\n",
       "\n",
       "    .dataframe tbody tr th {\n",
       "        vertical-align: top;\n",
       "    }\n",
       "\n",
       "    .dataframe thead th {\n",
       "        text-align: right;\n",
       "    }\n",
       "</style>\n",
       "<table border=\"1\" class=\"dataframe\">\n",
       "  <thead>\n",
       "    <tr style=\"text-align: right;\">\n",
       "      <th></th>\n",
       "      <th>MinTemp</th>\n",
       "      <th>MaxTemp</th>\n",
       "      <th>Rainfall</th>\n",
       "      <th>WindGustSpeed</th>\n",
       "      <th>WindSpeed9am</th>\n",
       "      <th>WindSpeed3pm</th>\n",
       "      <th>Humidity9am</th>\n",
       "      <th>Humidity3pm</th>\n",
       "      <th>Pressure9am</th>\n",
       "      <th>Pressure3pm</th>\n",
       "      <th>Temp9am</th>\n",
       "      <th>Temp3pm</th>\n",
       "      <th>RainToday</th>\n",
       "      <th>RainTomorrow</th>\n",
       "    </tr>\n",
       "  </thead>\n",
       "  <tbody>\n",
       "    <tr>\n",
       "      <th>0</th>\n",
       "      <td>1.0</td>\n",
       "      <td>16.8</td>\n",
       "      <td>0.0</td>\n",
       "      <td>24.0</td>\n",
       "      <td>9.0</td>\n",
       "      <td>9.0</td>\n",
       "      <td>82.0</td>\n",
       "      <td>45.0</td>\n",
       "      <td>1024.9</td>\n",
       "      <td>1020.2</td>\n",
       "      <td>7.0</td>\n",
       "      <td>16.0</td>\n",
       "      <td>No</td>\n",
       "      <td>No</td>\n",
       "    </tr>\n",
       "    <tr>\n",
       "      <th>1</th>\n",
       "      <td>6.1</td>\n",
       "      <td>20.7</td>\n",
       "      <td>0.0</td>\n",
       "      <td>43.0</td>\n",
       "      <td>4.0</td>\n",
       "      <td>24.0</td>\n",
       "      <td>80.0</td>\n",
       "      <td>54.0</td>\n",
       "      <td>1016.6</td>\n",
       "      <td>1010.8</td>\n",
       "      <td>10.2</td>\n",
       "      <td>20.3</td>\n",
       "      <td>No</td>\n",
       "      <td>Yes</td>\n",
       "    </tr>\n",
       "    <tr>\n",
       "      <th>2</th>\n",
       "      <td>6.3</td>\n",
       "      <td>16.9</td>\n",
       "      <td>1.4</td>\n",
       "      <td>35.0</td>\n",
       "      <td>6.0</td>\n",
       "      <td>13.0</td>\n",
       "      <td>85.0</td>\n",
       "      <td>58.0</td>\n",
       "      <td>1014.4</td>\n",
       "      <td>1012.3</td>\n",
       "      <td>12.5</td>\n",
       "      <td>15.5</td>\n",
       "      <td>Yes</td>\n",
       "      <td>No</td>\n",
       "    </tr>\n",
       "    <tr>\n",
       "      <th>3</th>\n",
       "      <td>2.1</td>\n",
       "      <td>15.0</td>\n",
       "      <td>0.0</td>\n",
       "      <td>30.0</td>\n",
       "      <td>4.0</td>\n",
       "      <td>11.0</td>\n",
       "      <td>81.0</td>\n",
       "      <td>54.0</td>\n",
       "      <td>1019.5</td>\n",
       "      <td>1017.9</td>\n",
       "      <td>8.6</td>\n",
       "      <td>14.9</td>\n",
       "      <td>No</td>\n",
       "      <td>No</td>\n",
       "    </tr>\n",
       "    <tr>\n",
       "      <th>4</th>\n",
       "      <td>1.6</td>\n",
       "      <td>16.6</td>\n",
       "      <td>0.0</td>\n",
       "      <td>37.0</td>\n",
       "      <td>9.0</td>\n",
       "      <td>20.0</td>\n",
       "      <td>79.0</td>\n",
       "      <td>47.0</td>\n",
       "      <td>1018.4</td>\n",
       "      <td>1011.4</td>\n",
       "      <td>8.3</td>\n",
       "      <td>15.4</td>\n",
       "      <td>No</td>\n",
       "      <td>No</td>\n",
       "    </tr>\n",
       "    <tr>\n",
       "      <th>...</th>\n",
       "      <td>...</td>\n",
       "      <td>...</td>\n",
       "      <td>...</td>\n",
       "      <td>...</td>\n",
       "      <td>...</td>\n",
       "      <td>...</td>\n",
       "      <td>...</td>\n",
       "      <td>...</td>\n",
       "      <td>...</td>\n",
       "      <td>...</td>\n",
       "      <td>...</td>\n",
       "      <td>...</td>\n",
       "      <td>...</td>\n",
       "      <td>...</td>\n",
       "    </tr>\n",
       "    <tr>\n",
       "      <th>109518</th>\n",
       "      <td>3.5</td>\n",
       "      <td>21.8</td>\n",
       "      <td>0.0</td>\n",
       "      <td>31.0</td>\n",
       "      <td>15.0</td>\n",
       "      <td>13.0</td>\n",
       "      <td>59.0</td>\n",
       "      <td>27.0</td>\n",
       "      <td>1024.7</td>\n",
       "      <td>1021.2</td>\n",
       "      <td>9.4</td>\n",
       "      <td>20.9</td>\n",
       "      <td>No</td>\n",
       "      <td>No</td>\n",
       "    </tr>\n",
       "    <tr>\n",
       "      <th>109519</th>\n",
       "      <td>2.8</td>\n",
       "      <td>23.4</td>\n",
       "      <td>0.0</td>\n",
       "      <td>31.0</td>\n",
       "      <td>13.0</td>\n",
       "      <td>11.0</td>\n",
       "      <td>51.0</td>\n",
       "      <td>24.0</td>\n",
       "      <td>1024.6</td>\n",
       "      <td>1020.3</td>\n",
       "      <td>10.1</td>\n",
       "      <td>22.4</td>\n",
       "      <td>No</td>\n",
       "      <td>No</td>\n",
       "    </tr>\n",
       "    <tr>\n",
       "      <th>109520</th>\n",
       "      <td>3.6</td>\n",
       "      <td>25.3</td>\n",
       "      <td>0.0</td>\n",
       "      <td>22.0</td>\n",
       "      <td>13.0</td>\n",
       "      <td>9.0</td>\n",
       "      <td>56.0</td>\n",
       "      <td>21.0</td>\n",
       "      <td>1023.5</td>\n",
       "      <td>1019.1</td>\n",
       "      <td>10.9</td>\n",
       "      <td>24.5</td>\n",
       "      <td>No</td>\n",
       "      <td>No</td>\n",
       "    </tr>\n",
       "    <tr>\n",
       "      <th>109521</th>\n",
       "      <td>5.4</td>\n",
       "      <td>26.9</td>\n",
       "      <td>0.0</td>\n",
       "      <td>37.0</td>\n",
       "      <td>9.0</td>\n",
       "      <td>9.0</td>\n",
       "      <td>53.0</td>\n",
       "      <td>24.0</td>\n",
       "      <td>1021.0</td>\n",
       "      <td>1016.8</td>\n",
       "      <td>12.5</td>\n",
       "      <td>26.1</td>\n",
       "      <td>No</td>\n",
       "      <td>No</td>\n",
       "    </tr>\n",
       "    <tr>\n",
       "      <th>109522</th>\n",
       "      <td>7.8</td>\n",
       "      <td>27.0</td>\n",
       "      <td>0.0</td>\n",
       "      <td>28.0</td>\n",
       "      <td>13.0</td>\n",
       "      <td>7.0</td>\n",
       "      <td>51.0</td>\n",
       "      <td>24.0</td>\n",
       "      <td>1019.4</td>\n",
       "      <td>1016.5</td>\n",
       "      <td>15.1</td>\n",
       "      <td>26.0</td>\n",
       "      <td>No</td>\n",
       "      <td>No</td>\n",
       "    </tr>\n",
       "  </tbody>\n",
       "</table>\n",
       "<p>109523 rows × 14 columns</p>\n",
       "</div>"
      ],
      "text/plain": [
       "        MinTemp  MaxTemp  Rainfall  WindGustSpeed  WindSpeed9am  WindSpeed3pm  \\\n",
       "0           1.0     16.8       0.0           24.0           9.0           9.0   \n",
       "1           6.1     20.7       0.0           43.0           4.0          24.0   \n",
       "2           6.3     16.9       1.4           35.0           6.0          13.0   \n",
       "3           2.1     15.0       0.0           30.0           4.0          11.0   \n",
       "4           1.6     16.6       0.0           37.0           9.0          20.0   \n",
       "...         ...      ...       ...            ...           ...           ...   \n",
       "109518      3.5     21.8       0.0           31.0          15.0          13.0   \n",
       "109519      2.8     23.4       0.0           31.0          13.0          11.0   \n",
       "109520      3.6     25.3       0.0           22.0          13.0           9.0   \n",
       "109521      5.4     26.9       0.0           37.0           9.0           9.0   \n",
       "109522      7.8     27.0       0.0           28.0          13.0           7.0   \n",
       "\n",
       "        Humidity9am  Humidity3pm  Pressure9am  Pressure3pm  Temp9am  Temp3pm  \\\n",
       "0              82.0         45.0       1024.9       1020.2      7.0     16.0   \n",
       "1              80.0         54.0       1016.6       1010.8     10.2     20.3   \n",
       "2              85.0         58.0       1014.4       1012.3     12.5     15.5   \n",
       "3              81.0         54.0       1019.5       1017.9      8.6     14.9   \n",
       "4              79.0         47.0       1018.4       1011.4      8.3     15.4   \n",
       "...             ...          ...          ...          ...      ...      ...   \n",
       "109518         59.0         27.0       1024.7       1021.2      9.4     20.9   \n",
       "109519         51.0         24.0       1024.6       1020.3     10.1     22.4   \n",
       "109520         56.0         21.0       1023.5       1019.1     10.9     24.5   \n",
       "109521         53.0         24.0       1021.0       1016.8     12.5     26.1   \n",
       "109522         51.0         24.0       1019.4       1016.5     15.1     26.0   \n",
       "\n",
       "       RainToday RainTomorrow  \n",
       "0             No           No  \n",
       "1             No          Yes  \n",
       "2            Yes           No  \n",
       "3             No           No  \n",
       "4             No           No  \n",
       "...          ...          ...  \n",
       "109518        No           No  \n",
       "109519        No           No  \n",
       "109520        No           No  \n",
       "109521        No           No  \n",
       "109522        No           No  \n",
       "\n",
       "[109523 rows x 14 columns]"
      ]
     },
     "execution_count": 13,
     "metadata": {},
     "output_type": "execute_result"
    }
   ],
   "source": [
    "df"
   ]
  },
  {
   "cell_type": "code",
   "execution_count": 14,
   "id": "5d7deea0",
   "metadata": {},
   "outputs": [
    {
     "name": "stdout",
     "output_type": "stream",
     "text": [
      "['RainToday', 'RainTomorrow']\n"
     ]
    }
   ],
   "source": [
    "from sklearn.preprocessing import LabelEncoder\n",
    "\n",
    "cat_f = [x for x in df.columns if df[x].dtype == 'object']\n",
    "print(cat_f)\n",
    "\n",
    "# traversing all columns for converting into continuous valriables\n",
    "for name in cat_f:\n",
    "    enc = LabelEncoder()\n",
    "    enc.fit(list(df[name].values.astype('str')) + list(df[name].values.astype('str')))\n",
    "    df[name] = enc.transform(df[name].values.astype('str'))"
   ]
  },
  {
   "cell_type": "code",
   "execution_count": 15,
   "id": "c10dff7d",
   "metadata": {},
   "outputs": [],
   "source": [
    "train=df.sample(frac=0.8,random_state=200)\n",
    "test=df.drop(train.index)"
   ]
  },
  {
   "cell_type": "code",
   "execution_count": 16,
   "id": "205b0f2e",
   "metadata": {},
   "outputs": [
    {
     "data": {
      "text/plain": [
       "((87618, 13), (87618,), (21905, 13), (21905,))"
      ]
     },
     "execution_count": 16,
     "metadata": {},
     "output_type": "execute_result"
    }
   ],
   "source": [
    "# Split train and test data\n",
    "train_features = train.loc[:,df.columns != 'RainTomorrow']\n",
    "train_labels = train.loc[:, 'RainTomorrow']\n",
    "\n",
    "test_features = test.loc[:,df.columns != 'RainTomorrow']\n",
    "test_labels = test.loc[:, 'RainTomorrow']\n",
    "# I want to use a T-days window of input data for predicting target_class\n",
    "# It means I need to prepend (T-1) last train records to the 1st test window\n",
    "\n",
    "T = 15  # my choice of the timesteps window\n",
    "prepend_features = train_features.iloc[-(T-1):]\n",
    "\n",
    "#print(prepend_features)\n",
    "#test_features = pd.concat([prepend_features, test_features], axis=0)\n",
    "\n",
    "train_features.shape, train_labels.shape, test_features.shape, test_labels.shape"
   ]
  },
  {
   "cell_type": "code",
   "execution_count": 17,
   "id": "7ed50237",
   "metadata": {},
   "outputs": [
    {
     "data": {
      "text/html": [
       "<div>\n",
       "<style scoped>\n",
       "    .dataframe tbody tr th:only-of-type {\n",
       "        vertical-align: middle;\n",
       "    }\n",
       "\n",
       "    .dataframe tbody tr th {\n",
       "        vertical-align: top;\n",
       "    }\n",
       "\n",
       "    .dataframe thead th {\n",
       "        text-align: right;\n",
       "    }\n",
       "</style>\n",
       "<table border=\"1\" class=\"dataframe\">\n",
       "  <thead>\n",
       "    <tr style=\"text-align: right;\">\n",
       "      <th></th>\n",
       "      <th>MinTemp</th>\n",
       "      <th>MaxTemp</th>\n",
       "      <th>Rainfall</th>\n",
       "      <th>WindGustSpeed</th>\n",
       "      <th>WindSpeed9am</th>\n",
       "      <th>WindSpeed3pm</th>\n",
       "      <th>Humidity9am</th>\n",
       "      <th>Humidity3pm</th>\n",
       "      <th>Pressure9am</th>\n",
       "      <th>Pressure3pm</th>\n",
       "      <th>Temp9am</th>\n",
       "      <th>Temp3pm</th>\n",
       "      <th>RainToday</th>\n",
       "    </tr>\n",
       "  </thead>\n",
       "  <tbody>\n",
       "    <tr>\n",
       "      <th>6054</th>\n",
       "      <td>10.9</td>\n",
       "      <td>20.8</td>\n",
       "      <td>0.2</td>\n",
       "      <td>46.0</td>\n",
       "      <td>11.0</td>\n",
       "      <td>20.0</td>\n",
       "      <td>64.0</td>\n",
       "      <td>49.0</td>\n",
       "      <td>1018.5</td>\n",
       "      <td>1015.4</td>\n",
       "      <td>14.8</td>\n",
       "      <td>20.4</td>\n",
       "      <td>0</td>\n",
       "    </tr>\n",
       "    <tr>\n",
       "      <th>92226</th>\n",
       "      <td>17.9</td>\n",
       "      <td>32.3</td>\n",
       "      <td>0.0</td>\n",
       "      <td>30.0</td>\n",
       "      <td>13.0</td>\n",
       "      <td>11.0</td>\n",
       "      <td>42.0</td>\n",
       "      <td>33.0</td>\n",
       "      <td>1016.2</td>\n",
       "      <td>1014.4</td>\n",
       "      <td>25.9</td>\n",
       "      <td>31.3</td>\n",
       "      <td>0</td>\n",
       "    </tr>\n",
       "    <tr>\n",
       "      <th>64378</th>\n",
       "      <td>13.5</td>\n",
       "      <td>26.4</td>\n",
       "      <td>0.0</td>\n",
       "      <td>20.0</td>\n",
       "      <td>4.0</td>\n",
       "      <td>7.0</td>\n",
       "      <td>72.0</td>\n",
       "      <td>35.0</td>\n",
       "      <td>1019.1</td>\n",
       "      <td>1017.3</td>\n",
       "      <td>19.3</td>\n",
       "      <td>25.6</td>\n",
       "      <td>0</td>\n",
       "    </tr>\n",
       "    <tr>\n",
       "      <th>57078</th>\n",
       "      <td>9.7</td>\n",
       "      <td>32.8</td>\n",
       "      <td>0.0</td>\n",
       "      <td>69.0</td>\n",
       "      <td>22.0</td>\n",
       "      <td>31.0</td>\n",
       "      <td>42.0</td>\n",
       "      <td>16.0</td>\n",
       "      <td>1010.7</td>\n",
       "      <td>1005.1</td>\n",
       "      <td>19.6</td>\n",
       "      <td>32.6</td>\n",
       "      <td>0</td>\n",
       "    </tr>\n",
       "    <tr>\n",
       "      <th>25520</th>\n",
       "      <td>7.9</td>\n",
       "      <td>20.3</td>\n",
       "      <td>0.0</td>\n",
       "      <td>22.0</td>\n",
       "      <td>15.0</td>\n",
       "      <td>7.0</td>\n",
       "      <td>75.0</td>\n",
       "      <td>32.0</td>\n",
       "      <td>1025.9</td>\n",
       "      <td>1023.3</td>\n",
       "      <td>9.2</td>\n",
       "      <td>19.5</td>\n",
       "      <td>0</td>\n",
       "    </tr>\n",
       "    <tr>\n",
       "      <th>...</th>\n",
       "      <td>...</td>\n",
       "      <td>...</td>\n",
       "      <td>...</td>\n",
       "      <td>...</td>\n",
       "      <td>...</td>\n",
       "      <td>...</td>\n",
       "      <td>...</td>\n",
       "      <td>...</td>\n",
       "      <td>...</td>\n",
       "      <td>...</td>\n",
       "      <td>...</td>\n",
       "      <td>...</td>\n",
       "      <td>...</td>\n",
       "    </tr>\n",
       "    <tr>\n",
       "      <th>85410</th>\n",
       "      <td>7.3</td>\n",
       "      <td>22.8</td>\n",
       "      <td>0.2</td>\n",
       "      <td>31.0</td>\n",
       "      <td>11.0</td>\n",
       "      <td>17.0</td>\n",
       "      <td>64.0</td>\n",
       "      <td>59.0</td>\n",
       "      <td>1017.3</td>\n",
       "      <td>1015.7</td>\n",
       "      <td>17.6</td>\n",
       "      <td>20.5</td>\n",
       "      <td>0</td>\n",
       "    </tr>\n",
       "    <tr>\n",
       "      <th>93038</th>\n",
       "      <td>6.4</td>\n",
       "      <td>24.2</td>\n",
       "      <td>0.0</td>\n",
       "      <td>35.0</td>\n",
       "      <td>11.0</td>\n",
       "      <td>9.0</td>\n",
       "      <td>37.0</td>\n",
       "      <td>23.0</td>\n",
       "      <td>1021.2</td>\n",
       "      <td>1018.5</td>\n",
       "      <td>16.6</td>\n",
       "      <td>23.3</td>\n",
       "      <td>0</td>\n",
       "    </tr>\n",
       "    <tr>\n",
       "      <th>66558</th>\n",
       "      <td>19.1</td>\n",
       "      <td>28.7</td>\n",
       "      <td>0.0</td>\n",
       "      <td>37.0</td>\n",
       "      <td>15.0</td>\n",
       "      <td>22.0</td>\n",
       "      <td>74.0</td>\n",
       "      <td>61.0</td>\n",
       "      <td>1015.3</td>\n",
       "      <td>1012.1</td>\n",
       "      <td>24.9</td>\n",
       "      <td>27.5</td>\n",
       "      <td>0</td>\n",
       "    </tr>\n",
       "    <tr>\n",
       "      <th>33036</th>\n",
       "      <td>19.9</td>\n",
       "      <td>34.9</td>\n",
       "      <td>0.0</td>\n",
       "      <td>37.0</td>\n",
       "      <td>19.0</td>\n",
       "      <td>20.0</td>\n",
       "      <td>72.0</td>\n",
       "      <td>73.0</td>\n",
       "      <td>1012.5</td>\n",
       "      <td>1007.4</td>\n",
       "      <td>24.7</td>\n",
       "      <td>25.6</td>\n",
       "      <td>0</td>\n",
       "    </tr>\n",
       "    <tr>\n",
       "      <th>6772</th>\n",
       "      <td>11.7</td>\n",
       "      <td>16.1</td>\n",
       "      <td>1.8</td>\n",
       "      <td>20.0</td>\n",
       "      <td>7.0</td>\n",
       "      <td>7.0</td>\n",
       "      <td>79.0</td>\n",
       "      <td>75.0</td>\n",
       "      <td>1019.2</td>\n",
       "      <td>1018.3</td>\n",
       "      <td>13.3</td>\n",
       "      <td>16.0</td>\n",
       "      <td>1</td>\n",
       "    </tr>\n",
       "  </tbody>\n",
       "</table>\n",
       "<p>87618 rows × 13 columns</p>\n",
       "</div>"
      ],
      "text/plain": [
       "       MinTemp  MaxTemp  Rainfall  WindGustSpeed  WindSpeed9am  WindSpeed3pm  \\\n",
       "6054      10.9     20.8       0.2           46.0          11.0          20.0   \n",
       "92226     17.9     32.3       0.0           30.0          13.0          11.0   \n",
       "64378     13.5     26.4       0.0           20.0           4.0           7.0   \n",
       "57078      9.7     32.8       0.0           69.0          22.0          31.0   \n",
       "25520      7.9     20.3       0.0           22.0          15.0           7.0   \n",
       "...        ...      ...       ...            ...           ...           ...   \n",
       "85410      7.3     22.8       0.2           31.0          11.0          17.0   \n",
       "93038      6.4     24.2       0.0           35.0          11.0           9.0   \n",
       "66558     19.1     28.7       0.0           37.0          15.0          22.0   \n",
       "33036     19.9     34.9       0.0           37.0          19.0          20.0   \n",
       "6772      11.7     16.1       1.8           20.0           7.0           7.0   \n",
       "\n",
       "       Humidity9am  Humidity3pm  Pressure9am  Pressure3pm  Temp9am  Temp3pm  \\\n",
       "6054          64.0         49.0       1018.5       1015.4     14.8     20.4   \n",
       "92226         42.0         33.0       1016.2       1014.4     25.9     31.3   \n",
       "64378         72.0         35.0       1019.1       1017.3     19.3     25.6   \n",
       "57078         42.0         16.0       1010.7       1005.1     19.6     32.6   \n",
       "25520         75.0         32.0       1025.9       1023.3      9.2     19.5   \n",
       "...            ...          ...          ...          ...      ...      ...   \n",
       "85410         64.0         59.0       1017.3       1015.7     17.6     20.5   \n",
       "93038         37.0         23.0       1021.2       1018.5     16.6     23.3   \n",
       "66558         74.0         61.0       1015.3       1012.1     24.9     27.5   \n",
       "33036         72.0         73.0       1012.5       1007.4     24.7     25.6   \n",
       "6772          79.0         75.0       1019.2       1018.3     13.3     16.0   \n",
       "\n",
       "       RainToday  \n",
       "6054           0  \n",
       "92226          0  \n",
       "64378          0  \n",
       "57078          0  \n",
       "25520          0  \n",
       "...          ...  \n",
       "85410          0  \n",
       "93038          0  \n",
       "66558          0  \n",
       "33036          0  \n",
       "6772           1  \n",
       "\n",
       "[87618 rows x 13 columns]"
      ]
     },
     "execution_count": 17,
     "metadata": {},
     "output_type": "execute_result"
    }
   ],
   "source": [
    "train_features"
   ]
  },
  {
   "cell_type": "code",
   "execution_count": 18,
   "id": "a563cae0",
   "metadata": {},
   "outputs": [
    {
     "data": {
      "text/plain": [
       "6054     0\n",
       "92226    0\n",
       "64378    0\n",
       "57078    0\n",
       "25520    0\n",
       "        ..\n",
       "85410    0\n",
       "93038    0\n",
       "66558    0\n",
       "33036    0\n",
       "6772     0\n",
       "Name: RainTomorrow, Length: 87618, dtype: int32"
      ]
     },
     "execution_count": 18,
     "metadata": {},
     "output_type": "execute_result"
    }
   ],
   "source": [
    "train_labels"
   ]
  },
  {
   "cell_type": "code",
   "execution_count": 19,
   "id": "604c14d3",
   "metadata": {},
   "outputs": [
    {
     "name": "stdout",
     "output_type": "stream",
     "text": [
      "0    73847\n",
      "1    13771\n",
      "Name: RainTomorrow, dtype: int64\n"
     ]
    },
    {
     "data": {
      "text/plain": [
       "<AxesSubplot:>"
      ]
     },
     "execution_count": 19,
     "metadata": {},
     "output_type": "execute_result"
    },
    {
     "data": {
      "image/png": "[encoded data removed]",
      "text/plain": [
       "<Figure size 432x288 with 1 Axes>"
      ]
     },
     "metadata": {
      "needs_background": "light"
     },
     "output_type": "display_data"
    }
   ],
   "source": [
    "from imblearn.over_sampling import SMOTE\n",
    "bal = SMOTE()\n",
    "\n",
    "print(train_labels.value_counts())\n",
    "pd.Series(train_labels).value_counts().plot.bar()"
   ]
  },
  {
   "cell_type": "code",
   "execution_count": 20,
   "id": "24b57fd8",
   "metadata": {},
   "outputs": [],
   "source": [
    "# balancing both classes\n",
    "train_features, train_labels = bal.fit_resample(train_features, train_labels)\n",
    "test_features, test_labels = bal.fit_resample(test_features, test_labels)"
   ]
  },
  {
   "cell_type": "code",
   "execution_count": 21,
   "id": "0461dabf",
   "metadata": {},
   "outputs": [
    {
     "data": {
      "text/plain": [
       "<AxesSubplot:>"
      ]
     },
     "execution_count": 21,
     "metadata": {},
     "output_type": "execute_result"
    },
    {
     "data": {
      "image/png": "[encoded data removed]",
      "text/plain": [
       "<Figure size 432x288 with 1 Axes>"
      ]
     },
     "metadata": {
      "needs_background": "light"
     },
     "output_type": "display_data"
    }
   ],
   "source": [
    "pd.Series(train_labels).value_counts().plot.bar()"
   ]
  },
  {
   "cell_type": "code",
   "execution_count": 22,
   "id": "91cd6421",
   "metadata": {},
   "outputs": [],
   "source": [
    "test_features = pd.concat([prepend_features, test_features], axis=0)"
   ]
  },
  {
   "cell_type": "code",
   "execution_count": 23,
   "id": "e6b7d6ea",
   "metadata": {},
   "outputs": [
    {
     "data": {
      "text/plain": [
       "(37076, 13)"
      ]
     },
     "execution_count": 23,
     "metadata": {},
     "output_type": "execute_result"
    }
   ],
   "source": [
    "test_features.shape"
   ]
  },
  {
   "cell_type": "code",
   "execution_count": 24,
   "id": "ffb93ee9",
   "metadata": {},
   "outputs": [
    {
     "data": {
      "text/plain": [
       "((147694, 13), (37076, 13))"
      ]
     },
     "execution_count": 24,
     "metadata": {},
     "output_type": "execute_result"
    }
   ],
   "source": [
    "# Rescale the features\n",
    "from sklearn.preprocessing import StandardScaler  # MinMaxScaler\n",
    "\n",
    "scaler = StandardScaler()  # MinMaxScaler(feature_range=(-1,1))\n",
    "scaled_train_features = pd.DataFrame(scaler.fit_transform(train_features.values),\n",
    "                                     index=train_features.index,\n",
    "                                     columns=train_features.columns)\n",
    "# The Scaler is fit on the training set and then applied to the test set\n",
    "scaled_test_features = pd.DataFrame(scaler.transform(test_features.values),\n",
    "                                    index=test_features.index,\n",
    "                                    columns=test_features.columns)\n",
    "\n",
    "scaled_train_features.shape, scaled_test_features.shape"
   ]
  },
  {
   "cell_type": "code",
   "execution_count": 63,
   "id": "ba170479",
   "metadata": {
    "scrolled": true
   },
   "outputs": [
    {
     "data": {
      "text/plain": [
       "\"\\n# Plot the rescaled_train_features\\nplt.style.use('fivethirtyeight')\\nscaled_train_features[:1000].plot(subplots=True,\\n                           layout=(6, 3),\\n                           figsize=(24,24),\\n                           fontsize=10, \\n                           linewidth=2, \\n                           title='Visualization of the scaled Train Features')\\nplt.show()\\n\""
      ]
     },
     "execution_count": 63,
     "metadata": {},
     "output_type": "execute_result"
    }
   ],
   "source": [
    "'''\n",
    "# Plot the rescaled_train_features\n",
    "plt.style.use('fivethirtyeight')\n",
    "scaled_train_features[:1000].plot(subplots=True,\n",
    "                           layout=(6, 3),\n",
    "                           figsize=(24,24),\n",
    "                           fontsize=10, \n",
    "                           linewidth=2, \n",
    "                           title='Visualization of the scaled Train Features')\n",
    "plt.show()\n",
    "'''"
   ]
  },
  {
   "cell_type": "code",
   "execution_count": 25,
   "id": "d5f4c1ba",
   "metadata": {},
   "outputs": [
    {
     "name": "stdout",
     "output_type": "stream",
     "text": [
      "Train data dimensions: (147680, 15, 13), (147680, 1)\n",
      "Test data dimensions: (37062, 15, 13), (37062, 1)\n"
     ]
    }
   ],
   "source": [
    "# Create sequences of T timesteps\n",
    "X_train, y_train = [], []\n",
    "for i in range(train_labels.shape[0] - (T-1)):\n",
    "    X_train.append(scaled_train_features.iloc[i:i+T].values)\n",
    "    y_train.append(train_labels.iloc[i + (T-1)])\n",
    "X_train, y_train = np.array(X_train), np.array(y_train).reshape(-1,1)\n",
    "print(f'Train data dimensions: {X_train.shape}, {y_train.shape}')\n",
    "\n",
    "\n",
    "X_test, y_test = [], []\n",
    "#print(test_labels.shape)\n",
    "for i in range(test_labels.shape[0]):\n",
    "    X_test.append(scaled_test_features.iloc[i:i+T].values)\n",
    "    y_test.append(test_labels.iloc[i])\n",
    "X_test, y_test = np.array(X_test), np.array(y_test).reshape(-1,1)  \n",
    "\n",
    "print(f'Test data dimensions: {X_test.shape}, {y_test.shape}')"
   ]
  },
  {
   "cell_type": "code",
   "execution_count": 26,
   "id": "2a8317f1",
   "metadata": {},
   "outputs": [],
   "source": [
    "from keras.models import Sequential\n",
    "from keras.layers import Dense, LSTM, BatchNormalization\n",
    "from keras.optimizers import Adam\n",
    "from keras.callbacks import ReduceLROnPlateau, EarlyStopping\n",
    "from keras.regularizers import l2\n",
    "from time import time"
   ]
  },
  {
   "cell_type": "code",
   "execution_count": 27,
   "id": "4d136bf6",
   "metadata": {},
   "outputs": [
    {
     "name": "stdout",
     "output_type": "stream",
     "text": [
      "layers=[128, 64, 32, 16, 1], train_examples=147680, test_examples=37062\n",
      "batch = 64, timesteps = 15, features = 13, epochs = 25\n",
      "lr = 0.05, lambda = 0.03, dropout = 0.2, recurr_dropout = 0.1\n",
      "Model: \"sequential\"\n",
      "_________________________________________________________________\n",
      "Layer (type)                 Output Shape              Param #   \n",
      "=================================================================\n",
      "lstm (LSTM)                  (None, 15, 128)           72704     \n",
      "_________________________________________________________________\n",
      "batch_normalization (BatchNo (None, 15, 128)           512       \n",
      "_________________________________________________________________\n",
      "lstm_1 (LSTM)                (None, 15, 64)            49408     \n",
      "_________________________________________________________________\n",
      "batch_normalization_1 (Batch (None, 15, 64)            256       \n",
      "_________________________________________________________________\n",
      "lstm_2 (LSTM)                (None, 15, 32)            12416     \n",
      "_________________________________________________________________\n",
      "batch_normalization_2 (Batch (None, 15, 32)            128       \n",
      "_________________________________________________________________\n",
      "lstm_3 (LSTM)                (None, 16)                3136      \n",
      "_________________________________________________________________\n",
      "batch_normalization_3 (Batch (None, 16)                64        \n",
      "_________________________________________________________________\n",
      "dense (Dense)                (None, 1)                 17        \n",
      "=================================================================\n",
      "Total params: 138,641\n",
      "Trainable params: 138,161\n",
      "Non-trainable params: 480\n",
      "_________________________________________________________________\n",
      "None\n",
      "Epoch 1/25\n",
      "1846/1846 [==============================] - 87s 47ms/step - loss: 0.7994 - accuracy: 0.8488 - val_loss: 0.2118 - val_accuracy: 0.9860\n",
      "Epoch 2/25\n",
      "1846/1846 [==============================] - 86s 46ms/step - loss: 0.5191 - accuracy: 0.8553 - val_loss: 0.1881 - val_accuracy: 0.9853\n",
      "Epoch 3/25\n",
      "1846/1846 [==============================] - 86s 46ms/step - loss: 0.4871 - accuracy: 0.8549 - val_loss: 0.1060 - val_accuracy: 0.9983\n",
      "Epoch 4/25\n",
      "1846/1846 [==============================] - 86s 46ms/step - loss: 0.4612 - accuracy: 0.8552 - val_loss: 0.1175 - val_accuracy: 0.9869\n",
      "Epoch 5/25\n",
      "1846/1846 [==============================] - 86s 47ms/step - loss: 0.4463 - accuracy: 0.8566 - val_loss: 0.5364 - val_accuracy: 0.8085\n",
      "Epoch 6/25\n",
      "1845/1846 [============================>.] - ETA: 0s - loss: 0.4577 - accuracy: 0.8541\n",
      "Epoch 00006: ReduceLROnPlateau reducing learning rate to 0.02500000037252903.\n",
      "1846/1846 [==============================] - 86s 47ms/step - loss: 0.4576 - accuracy: 0.8541 - val_loss: 0.1303 - val_accuracy: 0.9615\n",
      "Epoch 7/25\n",
      "1846/1846 [==============================] - 86s 47ms/step - loss: 0.3669 - accuracy: 0.8648 - val_loss: 0.0472 - val_accuracy: 0.9987\n",
      "Epoch 8/25\n",
      "1845/1846 [============================>.] - ETA: 0s - loss: 0.3775 - accuracy: 0.8646\n",
      "Epoch 00008: ReduceLROnPlateau reducing learning rate to 0.012500000186264515.\n",
      "1846/1846 [==============================] - 86s 47ms/step - loss: 0.3775 - accuracy: 0.8646 - val_loss: 0.1569 - val_accuracy: 0.9498\n",
      "Epoch 9/25\n",
      "1846/1846 [==============================] - 85s 46ms/step - loss: 0.3409 - accuracy: 0.8702 - val_loss: 0.1392 - val_accuracy: 0.9506\n",
      "Epoch 10/25\n",
      "1846/1846 [==============================] - ETA: 0s - loss: 0.3432 - accuracy: 0.8709\n",
      "Epoch 00010: ReduceLROnPlateau reducing learning rate to 0.0062500000931322575.\n",
      "1846/1846 [==============================] - 85s 46ms/step - loss: 0.3432 - accuracy: 0.8709 - val_loss: 0.0818 - val_accuracy: 0.9799\n",
      "Epoch 11/25\n",
      "1846/1846 [==============================] - 85s 46ms/step - loss: 0.3237 - accuracy: 0.8743 - val_loss: 0.0321 - val_accuracy: 0.9960\n",
      "Epoch 12/25\n",
      "1846/1846 [==============================] - ETA: 0s - loss: 0.3251 - accuracy: 0.8738\n",
      "Epoch 00012: ReduceLROnPlateau reducing learning rate to 0.0031250000465661287.\n",
      "1846/1846 [==============================] - 86s 46ms/step - loss: 0.3251 - accuracy: 0.8738 - val_loss: 0.0757 - val_accuracy: 0.9754\n",
      "Epoch 13/25\n",
      "1846/1846 [==============================] - 85s 46ms/step - loss: 0.3142 - accuracy: 0.8767 - val_loss: 0.0457 - val_accuracy: 0.9872\n",
      "Epoch 14/25\n",
      "1846/1846 [==============================] - ETA: 0s - loss: 0.3155 - accuracy: 0.8761\n",
      "Epoch 00014: ReduceLROnPlateau reducing learning rate to 0.0015625000232830644.\n",
      "1846/1846 [==============================] - 85s 46ms/step - loss: 0.3155 - accuracy: 0.8761 - val_loss: 0.0242 - val_accuracy: 0.9965\n",
      "Epoch 15/25\n",
      "1846/1846 [==============================] - 85s 46ms/step - loss: 0.3091 - accuracy: 0.8782 - val_loss: 0.0290 - val_accuracy: 0.9933\n",
      "Epoch 16/25\n",
      "1846/1846 [==============================] - 85s 46ms/step - loss: 0.3079 - accuracy: 0.8773 - val_loss: 0.0409 - val_accuracy: 0.9888\n",
      "Epoch 17/25\n",
      "1845/1846 [============================>.] - ETA: 0s - loss: 0.3094 - accuracy: 0.8761\n",
      "Epoch 00017: ReduceLROnPlateau reducing learning rate to 0.0007812500116415322.\n",
      "1846/1846 [==============================] - 86s 46ms/step - loss: 0.3094 - accuracy: 0.8762 - val_loss: 0.0773 - val_accuracy: 0.9722\n",
      "Epoch 18/25\n",
      "1846/1846 [==============================] - 86s 46ms/step - loss: 0.3057 - accuracy: 0.8784 - val_loss: 0.0579 - val_accuracy: 0.9808\n",
      "Epoch 19/25\n",
      "1846/1846 [==============================] - 85s 46ms/step - loss: 0.3047 - accuracy: 0.8785 - val_loss: 0.0500 - val_accuracy: 0.9853\n",
      "Epoch 20/25\n",
      "1846/1846 [==============================] - 86s 46ms/step - loss: 0.3031 - accuracy: 0.8792 - val_loss: 0.0422 - val_accuracy: 0.9875\n",
      "Epoch 21/25\n",
      "1845/1846 [============================>.] - ETA: 0s - loss: 0.3059 - accuracy: 0.8782\n",
      "Epoch 00021: ReduceLROnPlateau reducing learning rate to 0.0003906250058207661.\n",
      "1846/1846 [==============================] - 85s 46ms/step - loss: 0.3058 - accuracy: 0.8782 - val_loss: 0.0355 - val_accuracy: 0.9891\n",
      "Epoch 22/25\n",
      "1846/1846 [==============================] - ETA: 0s - loss: 0.3034 - accuracy: 0.8786\n",
      "Epoch 00022: ReduceLROnPlateau reducing learning rate to 0.00019531250291038305.\n",
      "1846/1846 [==============================] - 84s 46ms/step - loss: 0.3034 - accuracy: 0.8786 - val_loss: 0.0412 - val_accuracy: 0.9872\n",
      "Epoch 23/25\n",
      "1846/1846 [==============================] - 85s 46ms/step - loss: 0.3021 - accuracy: 0.8793 - val_loss: 0.0438 - val_accuracy: 0.9858\n",
      "Epoch 24/25\n",
      "1846/1846 [==============================] - ETA: 0s - loss: 0.3030 - accuracy: 0.8793\n",
      "Epoch 00024: ReduceLROnPlateau reducing learning rate to 9.765625145519152e-05.\n",
      "1846/1846 [==============================] - 84s 46ms/step - loss: 0.3030 - accuracy: 0.8793 - val_loss: 0.0367 - val_accuracy: 0.9882\n",
      "Epoch 25/25\n",
      "1846/1846 [==============================] - ETA: 0s - loss: 0.3033 - accuracy: 0.8781\n",
      "Epoch 00025: ReduceLROnPlateau reducing learning rate to 4.882812572759576e-05.\n",
      "1846/1846 [==============================] - 84s 46ms/step - loss: 0.3033 - accuracy: 0.8781 - val_loss: 0.0562 - val_accuracy: 0.9807\n",
      "-----------------------------------------------------------------\n",
      "Training was completed in 2150.36 secs\n",
      "-----------------------------------------------------------------\n",
      "-----------------------------------------------------------------\n",
      "train accuracy = 90.9067%\n",
      "test accuracy = 86.2663%\n",
      "test error = 5090 out of 37062 examples\n"
     ]
    }
   ],
   "source": [
    "# Let's make a list of CONSTANTS for modelling:\n",
    "LAYERS = [128,64, 32, 16, 1]                # number of units in hidden and output layers\n",
    "\n",
    "M_TRAIN = X_train.shape[0]           # number of training examples (2D)\n",
    "M_TEST = X_test.shape[0]             # number of test examples (2D),full=X_test.shape[0]\n",
    "\n",
    "N = X_train.shape[2]                 # number of features\n",
    "\n",
    "BATCH = 64                      # batch size\n",
    "EPOCH = 25                           # number of epochs\n",
    "\n",
    "LR = 5e-2                            # learning rate of the gradient descent\n",
    "LAMBD = 3e-2                         # lambda in L2 regularizaion\n",
    "\n",
    "DP = 0.2                             # dropout rate\n",
    "RDP = 0.1                            # recurrent dropout rate\n",
    "\n",
    "print(f'layers={LAYERS}, train_examples={M_TRAIN}, test_examples={M_TEST}')\n",
    "print(f'batch = {BATCH}, timesteps = {T}, features = {N}, epochs = {EPOCH}')\n",
    "print(f'lr = {LR}, lambda = {LAMBD}, dropout = {DP}, recurr_dropout = {RDP}')\n",
    "\n",
    "\n",
    "# Recurrent Activation - for input/forget/output state\n",
    "# Activation - for hidden state and hidden output state\n",
    "\n",
    "# Build the Model\n",
    "model = Sequential()\n",
    "\n",
    "model.add(LSTM(input_shape=(T, N), units=LAYERS[0],\n",
    "               activation='tanh', recurrent_activation='hard_sigmoid',\n",
    "               kernel_regularizer=l2(LAMBD), recurrent_regularizer=l2(LAMBD),\n",
    "               dropout=DP, recurrent_dropout=RDP,\n",
    "               return_sequences=True, return_state=False,\n",
    "               stateful=False, unroll=False\n",
    "              ))\n",
    "\n",
    "model.add(BatchNormalization())\n",
    "\n",
    "model.add(LSTM(units=LAYERS[1],\n",
    "               activation='tanh', recurrent_activation='hard_sigmoid',\n",
    "               kernel_regularizer=l2(LAMBD), recurrent_regularizer=l2(LAMBD),\n",
    "               dropout=DP, recurrent_dropout=RDP,\n",
    "               return_sequences=True, return_state=False,\n",
    "               stateful=False, unroll=False\n",
    "              ))\n",
    "\n",
    "model.add(BatchNormalization())\n",
    "\n",
    "model.add(LSTM(units=LAYERS[2],\n",
    "               activation='tanh', recurrent_activation='hard_sigmoid',\n",
    "               kernel_regularizer=l2(LAMBD), recurrent_regularizer=l2(LAMBD),\n",
    "               dropout=DP, recurrent_dropout=RDP,\n",
    "               return_sequences=True, return_state=False,\n",
    "               stateful=False, unroll=False\n",
    "              ))\n",
    "\n",
    "model.add(BatchNormalization())\n",
    "\n",
    "model.add(LSTM(units=LAYERS[3],\n",
    "               activation='tanh', recurrent_activation='hard_sigmoid',\n",
    "               kernel_regularizer=l2(LAMBD), recurrent_regularizer=l2(LAMBD),\n",
    "               dropout=DP, recurrent_dropout=RDP,\n",
    "               return_sequences=False, return_state=False,\n",
    "               stateful=False, unroll=False\n",
    "              ))\n",
    "\n",
    "model.add(BatchNormalization())\n",
    "\n",
    "model.add(Dense(units=LAYERS[4], activation='sigmoid'))\n",
    "\n",
    "# Compile the model with Adam optimizer\n",
    "model.compile(loss='binary_crossentropy',\n",
    "              metrics=['accuracy'],\n",
    "              optimizer=Adam(lr=LR))\n",
    "print(model.summary())\n",
    "\n",
    "\n",
    "# patience = upto how much epochs it must wait before redcuing LR by factor 0.5 if there is no change in loss.\n",
    "\n",
    "# Define a learning rate decay method:\n",
    "lr_decay = ReduceLROnPlateau(monitor='loss', \n",
    "                             patience=1, verbose=1, \n",
    "                             factor=0.5, min_lr=1e-8)\n",
    "# Define Early Stopping:\n",
    "early_stop = EarlyStopping(monitor='val_accuracy', min_delta=0.01, \n",
    "                           patience=30, verbose=1, mode='auto',\n",
    "                           baseline=0, restore_best_weights=True)\n",
    "\n",
    "# Train the model. \n",
    "# The dataset is small for NN - let's use test_data for validation\n",
    "start = time()\n",
    "History = model.fit(X_train, y_train,\n",
    "                    epochs=EPOCH,\n",
    "                    batch_size=BATCH,\n",
    "                    validation_split=0.2,\n",
    "                    shuffle=True,verbose=1,\n",
    "                    callbacks=[lr_decay, early_stop])\n",
    "\n",
    "print('-'*65)\n",
    "print(f'Training was completed in {time() - start:.2f} secs')\n",
    "print('-'*65)\n",
    "\n",
    "\n",
    "# Evaluate the model:\n",
    "train_loss, train_acc = model.evaluate(X_train, y_train,\n",
    "                                       batch_size=M_TRAIN, verbose=0)\n",
    "test_loss, test_acc = model.evaluate(X_test[:M_TEST], y_test[:M_TEST],\n",
    "                                     batch_size=M_TEST, verbose=0)\n",
    "\n",
    "print('-'*65)\n",
    "print(f'train accuracy = {round(train_acc * 100, 4)}%')\n",
    "print(f'test accuracy = {round(test_acc * 100, 4)}%')\n",
    "print(f'test error = {round((1 - test_acc) * M_TEST)} out of {M_TEST} examples')\n"
   ]
  },
  {
   "cell_type": "code",
   "execution_count": 28,
   "id": "3b6bc0eb",
   "metadata": {},
   "outputs": [
    {
     "data": {
      "image/png": "[encoded data removed]",
      "text/plain": [
       "<Figure size 1296x432 with 2 Axes>"
      ]
     },
     "metadata": {
      "needs_background": "light"
     },
     "output_type": "display_data"
    }
   ],
   "source": [
    "# Plot the loss and accuracy curves over epochs:\n",
    "fig, axs = plt.subplots(nrows=1, ncols=2, figsize=(18,6))\n",
    "axs[0].plot(History.history['loss'], color='b', label='Training loss')\n",
    "axs[0].plot(History.history['val_loss'], color='r', label='Validation loss')\n",
    "axs[0].set_title(\"Loss curves\")\n",
    "axs[0].legend(loc='best', shadow=True)\n",
    "\n",
    "axs[1].plot(History.history['accuracy'], color='b', label='Training accuracy')\n",
    "axs[1].plot(History.history['val_accuracy'], color='r', label='Validation accuracy')\n",
    "axs[1].set_title(\"Accuracy curves\")\n",
    "axs[1].legend(loc='best', shadow=True)\n",
    "plt.show()"
   ]
  },
  {
   "cell_type": "code",
   "execution_count": 29,
   "id": "27ada61a",
   "metadata": {},
   "outputs": [
    {
     "name": "stdout",
     "output_type": "stream",
     "text": [
      "WARNING:tensorflow:From C:\\Users\\HP\\anaconda3\\envs\\Inhouse\\lib\\site-packages\\tensorflow\\python\\training\\tracking\\tracking.py:111: Model.state_updates (from tensorflow.python.keras.engine.training) is deprecated and will be removed in a future version.\n",
      "Instructions for updating:\n",
      "This property should not be used in TensorFlow 2.0, as updates are applied automatically.\n",
      "WARNING:tensorflow:From C:\\Users\\HP\\anaconda3\\envs\\Inhouse\\lib\\site-packages\\tensorflow\\python\\training\\tracking\\tracking.py:111: Layer.updates (from tensorflow.python.keras.engine.base_layer) is deprecated and will be removed in a future version.\n",
      "Instructions for updating:\n",
      "This property should not be used in TensorFlow 2.0, as updates are applied automatically.\n",
      "INFO:tensorflow:Assets written to: Models/LSTM_Classifier_final\\assets\n"
     ]
    }
   ],
   "source": [
    "model.save('Models/LSTM_Classifier_final')"
   ]
  },
  {
   "cell_type": "code",
   "execution_count": 30,
   "id": "16fc4081",
   "metadata": {},
   "outputs": [
    {
     "name": "stdout",
     "output_type": "stream",
     "text": [
      "WARNING:tensorflow:From C:\\Users\\HP\\AppData\\Local\\Temp/ipykernel_7884/969650544.py:1: Sequential.predict_classes (from tensorflow.python.keras.engine.sequential) is deprecated and will be removed after 2021-01-01.\n",
      "Instructions for updating:\n",
      "Please use instead:* `np.argmax(model.predict(x), axis=-1)`,   if your model does multi-class classification   (e.g. if it uses a `softmax` last-layer activation).* `(model.predict(x) > 0.5).astype(\"int32\")`,   if your model does binary classification   (e.g. if it uses a `sigmoid` last-layer activation).\n",
      "1159/1159 [==============================] - 18s 16ms/step\n"
     ]
    }
   ],
   "source": [
    "y_hat = model.predict_classes(X_test,verbose=1)"
   ]
  },
  {
   "cell_type": "code",
   "execution_count": 31,
   "id": "ea32ca5a",
   "metadata": {},
   "outputs": [
    {
     "data": {
      "text/plain": [
       "(37062, 1)"
      ]
     },
     "execution_count": 31,
     "metadata": {},
     "output_type": "execute_result"
    }
   ],
   "source": [
    "y_hat.shape"
   ]
  },
  {
   "cell_type": "code",
   "execution_count": 32,
   "id": "a8b5baee",
   "metadata": {},
   "outputs": [
    {
     "data": {
      "text/plain": [
       "(37062, 1)"
      ]
     },
     "execution_count": 32,
     "metadata": {},
     "output_type": "execute_result"
    }
   ],
   "source": [
    "y_test.shape"
   ]
  },
  {
   "cell_type": "code",
   "execution_count": 33,
   "id": "e65184fe",
   "metadata": {},
   "outputs": [
    {
     "data": {
      "text/plain": [
       "array([[0],\n",
       "       [0],\n",
       "       [0],\n",
       "       [0],\n",
       "       [0],\n",
       "       [0],\n",
       "       [0],\n",
       "       [0],\n",
       "       [0],\n",
       "       [0],\n",
       "       [0],\n",
       "       [0],\n",
       "       [0],\n",
       "       [0],\n",
       "       [0],\n",
       "       [0],\n",
       "       [0],\n",
       "       [1],\n",
       "       [0],\n",
       "       [0],\n",
       "       [0],\n",
       "       [0],\n",
       "       [0],\n",
       "       [0],\n",
       "       [0],\n",
       "       [1],\n",
       "       [0],\n",
       "       [0],\n",
       "       [0],\n",
       "       [0],\n",
       "       [1],\n",
       "       [0],\n",
       "       [0],\n",
       "       [0],\n",
       "       [0],\n",
       "       [0],\n",
       "       [0],\n",
       "       [0],\n",
       "       [0],\n",
       "       [0],\n",
       "       [0],\n",
       "       [0],\n",
       "       [0],\n",
       "       [0],\n",
       "       [1],\n",
       "       [0],\n",
       "       [0],\n",
       "       [0],\n",
       "       [0],\n",
       "       [0],\n",
       "       [0],\n",
       "       [0],\n",
       "       [0],\n",
       "       [0],\n",
       "       [0],\n",
       "       [0],\n",
       "       [0],\n",
       "       [0],\n",
       "       [0],\n",
       "       [1],\n",
       "       [0],\n",
       "       [0],\n",
       "       [0],\n",
       "       [0],\n",
       "       [0],\n",
       "       [0],\n",
       "       [0],\n",
       "       [0],\n",
       "       [0],\n",
       "       [0],\n",
       "       [0],\n",
       "       [0],\n",
       "       [0],\n",
       "       [0],\n",
       "       [0],\n",
       "       [0],\n",
       "       [0],\n",
       "       [0],\n",
       "       [0],\n",
       "       [0],\n",
       "       [0],\n",
       "       [1],\n",
       "       [1],\n",
       "       [0],\n",
       "       [0],\n",
       "       [0],\n",
       "       [0],\n",
       "       [0],\n",
       "       [0],\n",
       "       [1],\n",
       "       [0],\n",
       "       [0],\n",
       "       [0],\n",
       "       [0],\n",
       "       [0],\n",
       "       [0],\n",
       "       [0],\n",
       "       [0],\n",
       "       [0],\n",
       "       [0],\n",
       "       [1],\n",
       "       [1],\n",
       "       [0],\n",
       "       [0],\n",
       "       [0],\n",
       "       [0],\n",
       "       [0],\n",
       "       [0],\n",
       "       [0],\n",
       "       [0],\n",
       "       [0],\n",
       "       [1],\n",
       "       [0],\n",
       "       [1],\n",
       "       [1],\n",
       "       [0],\n",
       "       [1],\n",
       "       [1],\n",
       "       [0],\n",
       "       [0],\n",
       "       [0],\n",
       "       [0],\n",
       "       [0],\n",
       "       [1],\n",
       "       [0],\n",
       "       [0],\n",
       "       [0],\n",
       "       [0],\n",
       "       [0],\n",
       "       [0],\n",
       "       [0],\n",
       "       [0],\n",
       "       [0],\n",
       "       [0],\n",
       "       [0],\n",
       "       [0],\n",
       "       [0],\n",
       "       [0],\n",
       "       [0],\n",
       "       [0],\n",
       "       [0],\n",
       "       [0],\n",
       "       [0],\n",
       "       [0],\n",
       "       [0],\n",
       "       [0],\n",
       "       [0],\n",
       "       [0],\n",
       "       [0],\n",
       "       [0]])"
      ]
     },
     "execution_count": 33,
     "metadata": {},
     "output_type": "execute_result"
    }
   ],
   "source": [
    "y_test[:150]"
   ]
  },
  {
   "cell_type": "code",
   "execution_count": 34,
   "id": "b01f8d76",
   "metadata": {},
   "outputs": [
    {
     "data": {
      "text/plain": [
       "array([[0],\n",
       "       [0],\n",
       "       [0],\n",
       "       [0],\n",
       "       [1],\n",
       "       [1],\n",
       "       [0],\n",
       "       [0],\n",
       "       [0],\n",
       "       [0],\n",
       "       [0],\n",
       "       [0],\n",
       "       [0],\n",
       "       [0],\n",
       "       [0],\n",
       "       [0],\n",
       "       [0],\n",
       "       [1],\n",
       "       [0],\n",
       "       [0],\n",
       "       [0],\n",
       "       [0],\n",
       "       [0],\n",
       "       [0],\n",
       "       [0],\n",
       "       [1],\n",
       "       [0],\n",
       "       [0],\n",
       "       [0],\n",
       "       [0],\n",
       "       [0],\n",
       "       [0],\n",
       "       [0],\n",
       "       [0],\n",
       "       [0],\n",
       "       [0],\n",
       "       [0],\n",
       "       [0],\n",
       "       [0],\n",
       "       [0],\n",
       "       [0],\n",
       "       [0],\n",
       "       [0],\n",
       "       [0],\n",
       "       [1],\n",
       "       [0],\n",
       "       [0],\n",
       "       [0],\n",
       "       [0],\n",
       "       [0],\n",
       "       [0],\n",
       "       [0],\n",
       "       [0],\n",
       "       [0],\n",
       "       [0],\n",
       "       [0],\n",
       "       [0],\n",
       "       [0],\n",
       "       [0],\n",
       "       [0],\n",
       "       [0],\n",
       "       [0],\n",
       "       [0],\n",
       "       [0],\n",
       "       [0],\n",
       "       [0],\n",
       "       [0],\n",
       "       [0],\n",
       "       [0],\n",
       "       [0],\n",
       "       [0],\n",
       "       [0],\n",
       "       [0],\n",
       "       [1],\n",
       "       [0],\n",
       "       [0],\n",
       "       [0],\n",
       "       [0],\n",
       "       [0],\n",
       "       [0],\n",
       "       [0],\n",
       "       [0],\n",
       "       [0],\n",
       "       [0],\n",
       "       [0],\n",
       "       [0],\n",
       "       [0],\n",
       "       [0],\n",
       "       [0],\n",
       "       [1],\n",
       "       [0],\n",
       "       [0],\n",
       "       [0],\n",
       "       [0],\n",
       "       [0],\n",
       "       [0],\n",
       "       [0],\n",
       "       [0],\n",
       "       [0],\n",
       "       [0],\n",
       "       [0],\n",
       "       [0],\n",
       "       [0],\n",
       "       [0],\n",
       "       [0],\n",
       "       [0],\n",
       "       [0],\n",
       "       [0],\n",
       "       [0],\n",
       "       [0],\n",
       "       [0],\n",
       "       [0],\n",
       "       [0],\n",
       "       [0],\n",
       "       [0],\n",
       "       [0],\n",
       "       [0],\n",
       "       [0],\n",
       "       [0],\n",
       "       [1],\n",
       "       [1],\n",
       "       [0],\n",
       "       [0],\n",
       "       [1],\n",
       "       [1],\n",
       "       [0],\n",
       "       [0],\n",
       "       [0],\n",
       "       [0],\n",
       "       [0],\n",
       "       [0],\n",
       "       [0],\n",
       "       [0],\n",
       "       [0],\n",
       "       [0],\n",
       "       [0],\n",
       "       [0],\n",
       "       [0],\n",
       "       [0],\n",
       "       [0],\n",
       "       [0],\n",
       "       [0],\n",
       "       [0],\n",
       "       [0],\n",
       "       [0],\n",
       "       [0],\n",
       "       [0],\n",
       "       [0],\n",
       "       [0],\n",
       "       [0]])"
      ]
     },
     "execution_count": 34,
     "metadata": {},
     "output_type": "execute_result"
    }
   ],
   "source": [
    "y_hat[:150]"
   ]
  },
  {
   "cell_type": "code",
   "execution_count": 35,
   "id": "abdeb4b6",
   "metadata": {},
   "outputs": [
    {
     "name": "stdout",
     "output_type": "stream",
     "text": [
      "Predicted      0      1\n",
      "Actual                 \n",
      "0          15835   2696\n",
      "1           2394  16137\n"
     ]
    }
   ],
   "source": [
    "data = {'y_Actual':  y_test.ravel(),\n",
    "        'y_Predicted': y_hat.ravel()\n",
    "        }\n",
    "#print(data)\n",
    "\n",
    "df = pd.DataFrame(data, columns=['y_Actual','y_Predicted'])\n",
    "confusion_matrix = pd.crosstab(df['y_Actual'], df['y_Predicted'], rownames=['Actual'], colnames=['Predicted'])\n",
    "print(confusion_matrix)"
   ]
  },
  {
   "cell_type": "code",
   "execution_count": 36,
   "id": "d92e5a7a",
   "metadata": {},
   "outputs": [
    {
     "data": {
      "image/png": "[encoded data removed]",
      "text/plain": [
       "<Figure size 432x288 with 2 Axes>"
      ]
     },
     "metadata": {
      "needs_background": "light"
     },
     "output_type": "display_data"
    }
   ],
   "source": [
    "import seaborn as sn\n",
    "\n",
    "sn.heatmap(confusion_matrix, annot=True,fmt='d')\n",
    "plt.show()"
   ]
  },
  {
   "cell_type": "code",
   "execution_count": 37,
   "id": "f49ab751",
   "metadata": {},
   "outputs": [
    {
     "name": "stdout",
     "output_type": "stream",
     "text": [
      "Precision is :  0.85684702384113\n",
      "Accuracy is :  0.8626625654308996\n"
     ]
    }
   ],
   "source": [
    "from sklearn.metrics import precision_score,accuracy_score\n",
    "\n",
    "print(\"Precision is : \",precision_score(y_test,y_hat))\n",
    "print(\"Accuracy is : \",accuracy_score(y_test,y_hat))"
   ]
  },
  {
   "cell_type": "code",
   "execution_count": 38,
   "id": "1eb3263c",
   "metadata": {},
   "outputs": [
    {
     "name": "stdout",
     "output_type": "stream",
     "text": [
      "F1 score is :  0.8637726153516754\n",
      "Recall is :  0.8708110733365712\n"
     ]
    }
   ],
   "source": [
    "from sklearn.metrics import f1_score,recall_score\n",
    "\n",
    "print(\"F1 score is : \",f1_score(y_test,y_hat))\n",
    "print(\"Recall is : \",recall_score(y_test,y_hat))"
   ]
  },
  {
   "cell_type": "code",
   "execution_count": null,
   "id": "3b1d1387",
   "metadata": {},
   "outputs": [],
   "source": []
  },
  {
   "cell_type": "code",
   "execution_count": null,
   "id": "8de09a69",
   "metadata": {},
   "outputs": [],
   "source": []
  },
  {
   "cell_type": "code",
   "execution_count": 65,
   "id": "f4fc076d",
   "metadata": {},
   "outputs": [],
   "source": [
    "import tensorflow as tf\n",
    "classifier = tf.keras.models.load_model('Models/LSTM_Classifier_4')"
   ]
  },
  {
   "cell_type": "code",
   "execution_count": 66,
   "id": "6b38c7f6",
   "metadata": {},
   "outputs": [
    {
     "name": "stdout",
     "output_type": "stream",
     "text": [
      "1159/1159 [==============================] - 8s 7ms/step\n",
      "Predicted      0      1\n",
      "Actual                 \n",
      "0          15899   2632\n",
      "1           2616  15915\n",
      "Precision is :  0.8580902571844503\n",
      "Accuracy is :  0.8583994387782634\n"
     ]
    }
   ],
   "source": [
    "y_hat = classifier.predict_classes(X_test, verbose=1)\n",
    "\n",
    "data = {'y_Actual':  y_test.ravel(),\n",
    "        'y_Predicted': y_hat.ravel()\n",
    "        }\n",
    "#print(data)\n",
    "\n",
    "df = pd.DataFrame(data, columns=['y_Actual','y_Predicted'])\n",
    "confusion_matrix = pd.crosstab(df['y_Actual'], df['y_Predicted'], rownames=['Actual'], colnames=['Predicted'])\n",
    "print(confusion_matrix)\n",
    "\n",
    "from sklearn.metrics import precision_score,accuracy_score\n",
    "\n",
    "print(\"Precision is : \",precision_score(y_test,y_hat))\n",
    "print(\"Accuracy is : \",accuracy_score(y_test,y_hat))"
   ]
  },
  {
   "cell_type": "code",
   "execution_count": 67,
   "id": "901229a7",
   "metadata": {},
   "outputs": [
    {
     "name": "stdout",
     "output_type": "stream",
     "text": [
      "F1 score is :  0.8584605426398404\n",
      "Recall is :  0.8588311478063785\n"
     ]
    }
   ],
   "source": [
    "from sklearn.metrics import f1_score,recall_score\n",
    "\n",
    "print(\"F1 score is : \",f1_score(y_test,y_hat))\n",
    "print(\"Recall is : \",recall_score(y_test,y_hat))"
   ]
  },
  {
   "cell_type": "code",
   "execution_count": null,
   "id": "58eb6b71",
   "metadata": {},
   "outputs": [],
   "source": []
  },
  {
   "cell_type": "code",
   "execution_count": null,
   "id": "99850588",
   "metadata": {},
   "outputs": [],
   "source": []
  },
  {
   "cell_type": "code",
   "execution_count": null,
   "id": "65893014",
   "metadata": {},
   "outputs": [],
   "source": [
    "# Converting the dataset into training dataset using timesteps and number of future values to be predicted\n",
    "trainX = []\n",
    "trainY = []\n",
    "\n",
    "n_future = 1 # this much future values will be predicted given single value of input\n",
    "n_past = 10\n",
    "\n",
    "for i in range(n_past, len(df_for_training_scaled) - n_future + 1):\n",
    "    trainX.append(df_for_training_scaled[i-n_past:i,0:df_for_training.shape[1]])\n",
    "    trainY.append(df_for_training_scaled[i+n_future-1:i+n_future,16])\n",
    "    \n",
    "# Converting it to numpy array\n",
    "trainX, trainY = np.array(trainX),np.array(trainY)"
   ]
  },
  {
   "cell_type": "code",
   "execution_count": null,
   "id": "7adab90f",
   "metadata": {},
   "outputs": [],
   "source": [
    "print(trainX.shape)\n",
    "print(trainY.shape)"
   ]
  },
  {
   "cell_type": "code",
   "execution_count": null,
   "id": "295622e1",
   "metadata": {},
   "outputs": [],
   "source": [
    "# Scaling the value between -1 to 1\n",
    "scaler = MinMaxScaler()\n",
    "scaler = scaler.fit(df_for_training)\n",
    "df_for_training_scaled = scaler.transform(df_for_training)"
   ]
  },
  {
   "cell_type": "code",
   "execution_count": null,
   "id": "c5429347",
   "metadata": {},
   "outputs": [],
   "source": [
    "# Creating Sequential model for training using LSTM, Dropout and Dense layers\n",
    "regressor = Sequential()\n",
    "\n",
    "regressor.add(LSTM(64,activation='relu',return_sequences=True,input_shape=(trainX.shape[1],trainX.shape[2])))\n",
    "regressor.add(LSTM(32))\n",
    "regressor.add(Dropout(0.2))\n",
    "regressor.add(Dense(1))\n",
    "\n",
    "regressor.compile(optimizer='adam',loss='cate',metrics=['accuracy'])\n",
    "\n",
    "regressor.summary()"
   ]
  },
  {
   "cell_type": "code",
   "execution_count": null,
   "id": "1f859c7e",
   "metadata": {},
   "outputs": [],
   "source": [
    "history = regressor.fit(trainX,trainY,\n",
    "                        shuffle = True, \n",
    "                        epochs=25,\n",
    "                        batch_size=64,\n",
    "                        validation_split=0.1,\n",
    "                        verbose=1)"
   ]
  },
  {
   "cell_type": "code",
   "execution_count": null,
   "id": "e53e3e18",
   "metadata": {},
   "outputs": [],
   "source": [
    "import matplotlib.pyplot as plt\n",
    "\n",
    "# summarize history for accuracy\n",
    "plt.plot(history.history['accuracy'])\n",
    "plt.plot(history.history['val_accuracy'])\n",
    "plt.title('model accuracy')\n",
    "plt.ylabel('accuracy')\n",
    "plt.xlabel('epoch')\n",
    "plt.legend(['Train', 'Validation'], loc='upper left')\n",
    "plt.show()\n",
    "\n",
    "# summarize history for loss\n",
    "plt.plot(history.history['loss'])\n",
    "plt.plot(history.history['val_loss'])\n",
    "plt.title('model loss')\n",
    "plt.ylabel('loss')\n",
    "plt.xlabel('epoch')\n",
    "plt.legend(['Train', 'Validation'], loc='upper left')\n",
    "plt.show()"
   ]
  },
  {
   "cell_type": "code",
   "execution_count": null,
   "id": "e0e930fc",
   "metadata": {},
   "outputs": [],
   "source": [
    "regressor.save('Models/Session_3_Rain_Today_Simple_epoch=25')"
   ]
  },
  {
   "cell_type": "code",
   "execution_count": null,
   "id": "535346d1",
   "metadata": {},
   "outputs": [],
   "source": [
    "# n_future = 2  # This value must be same as the value used while creating training dataset\n",
    "\n",
    "forecast_period_dates = pd.date_range(list(train_dates)[-1],periods=n_future,freq='1d').tolist()\n",
    "print(forecast_period_dates)\n",
    "\n",
    "# Predicting \n",
    "forecast = regressor.predict(trainX[-10000:])\n",
    "\n",
    "print(trainX[-10000:].shape)\n",
    "print(forecast)"
   ]
  },
  {
   "cell_type": "code",
   "execution_count": null,
   "id": "3eaf2703",
   "metadata": {},
   "outputs": [],
   "source": [
    "# for descaling the values we need (x,20) type shape, So we are using np.repeat to copy same values accross df_for_training.shape[1]\n",
    "forecast_copies = np.repeat(forecast,df_for_training.shape[1],axis=-1)\n",
    "#print(forecast_copies)\n",
    "\n",
    "y_pred_future = scaler.inverse_transform(forecast_copies)[:,16]\n",
    "print(y_pred_future[:100])"
   ]
  },
  {
   "cell_type": "code",
   "execution_count": null,
   "id": "5bfc67d0",
   "metadata": {},
   "outputs": [],
   "source": [
    "output = list(map(lambda x :1 if x>0.5 else 0,y_pred_future))\n",
    "print(len(list(output)))\n",
    "print(output)"
   ]
  },
  {
   "cell_type": "code",
   "execution_count": null,
   "id": "91a7f1a9",
   "metadata": {},
   "outputs": [],
   "source": [
    "actual_values = df_for_training[-10000:]['RainToday']\n",
    "#print(len(actual_values.to_numpy()))\n",
    "#print(actual_values.to_numpy())"
   ]
  },
  {
   "cell_type": "code",
   "execution_count": null,
   "id": "7055d3c1",
   "metadata": {},
   "outputs": [],
   "source": []
  },
  {
   "cell_type": "code",
   "execution_count": null,
   "id": "4aa390f2",
   "metadata": {},
   "outputs": [],
   "source": [
    "data = {'y_Actual':   list(actual_values.to_numpy()),\n",
    "        'y_Predicted': output\n",
    "        }\n",
    "#print(data)\n",
    "\n",
    "df = pd.DataFrame(data, columns=['y_Actual','y_Predicted'])\n",
    "confusion_matrix = pd.crosstab(df['y_Actual'], df['y_Predicted'], rownames=['Actual'], colnames=['Predicted'])\n",
    "print(confusion_matrix)"
   ]
  },
  {
   "cell_type": "code",
   "execution_count": null,
   "id": "2641f936",
   "metadata": {},
   "outputs": [],
   "source": [
    "import seaborn as sn\n",
    "\n",
    "sn.heatmap(confusion_matrix, annot=True,fmt='d')\n",
    "plt.show()"
   ]
  },
  {
   "cell_type": "code",
   "execution_count": null,
   "id": "e95d6b64",
   "metadata": {},
   "outputs": [],
   "source": [
    "from sklearn.metrics import precision_score,accuracy_score\n",
    "\n",
    "print(\"Precision is : \",precision_score(actual_values,output))\n",
    "print(\"Accuracy is : \",accuracy_score(actual_values,output))"
   ]
  },
  {
   "cell_type": "code",
   "execution_count": null,
   "id": "d74f09fe",
   "metadata": {},
   "outputs": [],
   "source": []
  }
 ],
 "metadata": {
  "kernelspec": {
   "display_name": "Python 3 (ipykernel)",
   "language": "python",
   "name": "python3"
  },
  "language_info": {
   "codemirror_mode": {
    "name": "ipython",
    "version": 3
   },
   "file_extension": ".py",
   "mimetype": "text/x-python",
   "name": "python",
   "nbconvert_exporter": "python",
   "pygments_lexer": "ipython3",
   "version": "3.8.12"
  }
 },
 "nbformat": 4,
 "nbformat_minor": 5
}
