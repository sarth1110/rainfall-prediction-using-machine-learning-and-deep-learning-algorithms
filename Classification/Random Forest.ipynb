{
 "cells": [
  {
   "cell_type": "code",
   "execution_count": 1,
   "id": "6af177de",
   "metadata": {},
   "outputs": [],
   "source": [
    "import pandas as pd\n",
    "import numpy as np\n",
    "import matplotlib.pyplot as plt\n",
    "import seaborn as sns\n",
    "from sklearn import preprocessing"
   ]
  },
  {
   "cell_type": "code",
   "execution_count": 2,
   "id": "82da9922",
   "metadata": {},
   "outputs": [],
   "source": [
    "df = pd.read_csv(\"C:\\\\Users\\\\kanan\\\\Desktop\\\\Study Material\\\\In-house CP\\\\Untitled Folder\\\\cleaned_weatherAUS.csv\")"
   ]
  },
  {
   "cell_type": "code",
   "execution_count": 3,
   "id": "e12c245c",
   "metadata": {},
   "outputs": [
    {
     "name": "stdout",
     "output_type": "stream",
     "text": [
      "<class 'pandas.core.frame.DataFrame'>\n",
      "RangeIndex: 109523 entries, 0 to 109522\n",
      "Data columns (total 20 columns):\n",
      " #   Column         Non-Null Count   Dtype  \n",
      "---  ------         --------------   -----  \n",
      " 0   Date           109523 non-null  object \n",
      " 1   Location       109523 non-null  object \n",
      " 2   MinTemp        109523 non-null  float64\n",
      " 3   MaxTemp        109523 non-null  float64\n",
      " 4   Rainfall       109523 non-null  float64\n",
      " 5   WindGustDir    109523 non-null  object \n",
      " 6   WindGustSpeed  109523 non-null  float64\n",
      " 7   WindDir9am     109523 non-null  object \n",
      " 8   WindDir3pm     109523 non-null  object \n",
      " 9   WindSpeed9am   109523 non-null  float64\n",
      " 10  WindSpeed3pm   109523 non-null  float64\n",
      " 11  Humidity9am    109523 non-null  float64\n",
      " 12  Humidity3pm    109523 non-null  float64\n",
      " 13  Pressure9am    109523 non-null  float64\n",
      " 14  Pressure3pm    109523 non-null  float64\n",
      " 15  Temp9am        109523 non-null  float64\n",
      " 16  Temp3pm        109523 non-null  float64\n",
      " 17  RainToday      109523 non-null  object \n",
      " 18  RainTomorrow   109523 non-null  object \n",
      " 19  Month          109523 non-null  int64  \n",
      "dtypes: float64(12), int64(1), object(7)\n",
      "memory usage: 16.7+ MB\n"
     ]
    }
   ],
   "source": [
    "df.info()"
   ]
  },
  {
   "cell_type": "code",
   "execution_count": 4,
   "id": "b1f316af",
   "metadata": {},
   "outputs": [
    {
     "name": "stdout",
     "output_type": "stream",
     "text": [
      "{'N': 0, 'NNE': 22.5, 'NE': 45.0, 'ENE': 67.5, 'E': 90.0, 'ESE': 112.5, 'SE': 135.0, 'SSE': 157.5, 'S': 180.0, 'SSW': 202.5, 'SW': 225.0, 'WSW': 247.5, 'W': 270.0, 'WNW': 292.5, 'NW': 315.0, 'NNW': 337.5}\n"
     ]
    }
   ],
   "source": [
    "Direction = ['N','NNE','NE','ENE','E','ESE','SE','SSE','S','SSW','SW','WSW','W','WNW','NW','NNW']\n",
    "Degree = []\n",
    "\n",
    "x = 0\n",
    "for i in range(0,337,22):\n",
    "    Degree.append(i+x)\n",
    "    x = x + 0.5\n",
    "    \n",
    "Direction_Degree = dict(zip(Direction,Degree))\n",
    "print(Direction_Degree)\n",
    "\n",
    "#Converting WindGustDir, WindDir9am, WindDir3pm to degree format\n",
    "\n",
    "df = df.replace({\"WindGustDir\": Direction_Degree})\n",
    "df = df.replace({\"WindDir9am\": Direction_Degree})\n",
    "df = df.replace({\"WindDir3pm\": Direction_Degree})"
   ]
  },
  {
   "cell_type": "code",
   "execution_count": 5,
   "id": "47431bb6",
   "metadata": {},
   "outputs": [],
   "source": [
    "df = df.drop(columns = ['Date', 'Location', 'Month'],axis=1)"
   ]
  },
  {
   "cell_type": "code",
   "execution_count": 6,
   "id": "7efd0120",
   "metadata": {},
   "outputs": [
    {
     "data": {
      "text/plain": [
       "MinTemp          0.0\n",
       "MaxTemp          0.0\n",
       "Rainfall         0.0\n",
       "WindGustDir      0.0\n",
       "WindGustSpeed    0.0\n",
       "WindDir9am       0.0\n",
       "WindDir3pm       0.0\n",
       "WindSpeed9am     0.0\n",
       "WindSpeed3pm     0.0\n",
       "Humidity9am      0.0\n",
       "Humidity3pm      0.0\n",
       "Pressure9am      0.0\n",
       "Pressure3pm      0.0\n",
       "Temp9am          0.0\n",
       "Temp3pm          0.0\n",
       "RainToday        0.0\n",
       "RainTomorrow     0.0\n",
       "dtype: float64"
      ]
     },
     "execution_count": 6,
     "metadata": {},
     "output_type": "execute_result"
    }
   ],
   "source": [
    "df.isna().mean().round(4) * 100"
   ]
  },
  {
   "cell_type": "code",
   "execution_count": 7,
   "id": "2df8affa",
   "metadata": {},
   "outputs": [
    {
     "name": "stdout",
     "output_type": "stream",
     "text": [
      "['RainToday', 'RainTomorrow']\n"
     ]
    }
   ],
   "source": [
    "from sklearn.preprocessing import LabelEncoder\n",
    "\n",
    "cat_f = [x for x in df.columns if df[x].dtype == 'object']\n",
    "print(cat_f)\n",
    "\n",
    "# traversing all columns for converting into continuous valriables\n",
    "for name in cat_f:\n",
    "    enc = LabelEncoder()\n",
    "    enc.fit(list(df[name].values.astype('str')) + list(df[name].values.astype('str')))\n",
    "    df[name] = enc.transform(df[name].values.astype('str'))"
   ]
  },
  {
   "cell_type": "code",
   "execution_count": 8,
   "id": "d5edc5a8",
   "metadata": {},
   "outputs": [
    {
     "data": {
      "text/html": [
       "<div>\n",
       "<style scoped>\n",
       "    .dataframe tbody tr th:only-of-type {\n",
       "        vertical-align: middle;\n",
       "    }\n",
       "\n",
       "    .dataframe tbody tr th {\n",
       "        vertical-align: top;\n",
       "    }\n",
       "\n",
       "    .dataframe thead th {\n",
       "        text-align: right;\n",
       "    }\n",
       "</style>\n",
       "<table border=\"1\" class=\"dataframe\">\n",
       "  <thead>\n",
       "    <tr style=\"text-align: right;\">\n",
       "      <th></th>\n",
       "      <th>MinTemp</th>\n",
       "      <th>MaxTemp</th>\n",
       "      <th>Rainfall</th>\n",
       "      <th>WindGustDir</th>\n",
       "      <th>WindGustSpeed</th>\n",
       "      <th>WindDir9am</th>\n",
       "      <th>WindDir3pm</th>\n",
       "      <th>WindSpeed9am</th>\n",
       "      <th>WindSpeed3pm</th>\n",
       "      <th>Humidity9am</th>\n",
       "      <th>Humidity3pm</th>\n",
       "      <th>Pressure9am</th>\n",
       "      <th>Pressure3pm</th>\n",
       "      <th>Temp9am</th>\n",
       "      <th>Temp3pm</th>\n",
       "      <th>RainToday</th>\n",
       "      <th>RainTomorrow</th>\n",
       "    </tr>\n",
       "  </thead>\n",
       "  <tbody>\n",
       "    <tr>\n",
       "      <th>0</th>\n",
       "      <td>1.0</td>\n",
       "      <td>16.8</td>\n",
       "      <td>0.0</td>\n",
       "      <td>112.5</td>\n",
       "      <td>24.0</td>\n",
       "      <td>112.5</td>\n",
       "      <td>90.0</td>\n",
       "      <td>9.0</td>\n",
       "      <td>9.0</td>\n",
       "      <td>82.0</td>\n",
       "      <td>45.0</td>\n",
       "      <td>1024.9</td>\n",
       "      <td>1020.2</td>\n",
       "      <td>7.0</td>\n",
       "      <td>16.0</td>\n",
       "      <td>0</td>\n",
       "      <td>0</td>\n",
       "    </tr>\n",
       "    <tr>\n",
       "      <th>1</th>\n",
       "      <td>6.1</td>\n",
       "      <td>20.7</td>\n",
       "      <td>0.0</td>\n",
       "      <td>45.0</td>\n",
       "      <td>43.0</td>\n",
       "      <td>135.0</td>\n",
       "      <td>45.0</td>\n",
       "      <td>4.0</td>\n",
       "      <td>24.0</td>\n",
       "      <td>80.0</td>\n",
       "      <td>54.0</td>\n",
       "      <td>1016.6</td>\n",
       "      <td>1010.8</td>\n",
       "      <td>10.2</td>\n",
       "      <td>20.3</td>\n",
       "      <td>0</td>\n",
       "      <td>1</td>\n",
       "    </tr>\n",
       "    <tr>\n",
       "      <th>2</th>\n",
       "      <td>6.3</td>\n",
       "      <td>16.9</td>\n",
       "      <td>1.4</td>\n",
       "      <td>315.0</td>\n",
       "      <td>35.0</td>\n",
       "      <td>112.5</td>\n",
       "      <td>292.5</td>\n",
       "      <td>6.0</td>\n",
       "      <td>13.0</td>\n",
       "      <td>85.0</td>\n",
       "      <td>58.0</td>\n",
       "      <td>1014.4</td>\n",
       "      <td>1012.3</td>\n",
       "      <td>12.5</td>\n",
       "      <td>15.5</td>\n",
       "      <td>1</td>\n",
       "      <td>0</td>\n",
       "    </tr>\n",
       "    <tr>\n",
       "      <th>3</th>\n",
       "      <td>2.1</td>\n",
       "      <td>15.0</td>\n",
       "      <td>0.0</td>\n",
       "      <td>292.5</td>\n",
       "      <td>30.0</td>\n",
       "      <td>112.5</td>\n",
       "      <td>315.0</td>\n",
       "      <td>4.0</td>\n",
       "      <td>11.0</td>\n",
       "      <td>81.0</td>\n",
       "      <td>54.0</td>\n",
       "      <td>1019.5</td>\n",
       "      <td>1017.9</td>\n",
       "      <td>8.6</td>\n",
       "      <td>14.9</td>\n",
       "      <td>0</td>\n",
       "      <td>0</td>\n",
       "    </tr>\n",
       "    <tr>\n",
       "      <th>4</th>\n",
       "      <td>1.6</td>\n",
       "      <td>16.6</td>\n",
       "      <td>0.0</td>\n",
       "      <td>45.0</td>\n",
       "      <td>37.0</td>\n",
       "      <td>135.0</td>\n",
       "      <td>45.0</td>\n",
       "      <td>9.0</td>\n",
       "      <td>20.0</td>\n",
       "      <td>79.0</td>\n",
       "      <td>47.0</td>\n",
       "      <td>1018.4</td>\n",
       "      <td>1011.4</td>\n",
       "      <td>8.3</td>\n",
       "      <td>15.4</td>\n",
       "      <td>0</td>\n",
       "      <td>0</td>\n",
       "    </tr>\n",
       "    <tr>\n",
       "      <th>...</th>\n",
       "      <td>...</td>\n",
       "      <td>...</td>\n",
       "      <td>...</td>\n",
       "      <td>...</td>\n",
       "      <td>...</td>\n",
       "      <td>...</td>\n",
       "      <td>...</td>\n",
       "      <td>...</td>\n",
       "      <td>...</td>\n",
       "      <td>...</td>\n",
       "      <td>...</td>\n",
       "      <td>...</td>\n",
       "      <td>...</td>\n",
       "      <td>...</td>\n",
       "      <td>...</td>\n",
       "      <td>...</td>\n",
       "      <td>...</td>\n",
       "    </tr>\n",
       "    <tr>\n",
       "      <th>109518</th>\n",
       "      <td>3.5</td>\n",
       "      <td>21.8</td>\n",
       "      <td>0.0</td>\n",
       "      <td>90.0</td>\n",
       "      <td>31.0</td>\n",
       "      <td>112.5</td>\n",
       "      <td>90.0</td>\n",
       "      <td>15.0</td>\n",
       "      <td>13.0</td>\n",
       "      <td>59.0</td>\n",
       "      <td>27.0</td>\n",
       "      <td>1024.7</td>\n",
       "      <td>1021.2</td>\n",
       "      <td>9.4</td>\n",
       "      <td>20.9</td>\n",
       "      <td>0</td>\n",
       "      <td>0</td>\n",
       "    </tr>\n",
       "    <tr>\n",
       "      <th>109519</th>\n",
       "      <td>2.8</td>\n",
       "      <td>23.4</td>\n",
       "      <td>0.0</td>\n",
       "      <td>90.0</td>\n",
       "      <td>31.0</td>\n",
       "      <td>135.0</td>\n",
       "      <td>67.5</td>\n",
       "      <td>13.0</td>\n",
       "      <td>11.0</td>\n",
       "      <td>51.0</td>\n",
       "      <td>24.0</td>\n",
       "      <td>1024.6</td>\n",
       "      <td>1020.3</td>\n",
       "      <td>10.1</td>\n",
       "      <td>22.4</td>\n",
       "      <td>0</td>\n",
       "      <td>0</td>\n",
       "    </tr>\n",
       "    <tr>\n",
       "      <th>109520</th>\n",
       "      <td>3.6</td>\n",
       "      <td>25.3</td>\n",
       "      <td>0.0</td>\n",
       "      <td>337.5</td>\n",
       "      <td>22.0</td>\n",
       "      <td>135.0</td>\n",
       "      <td>0.0</td>\n",
       "      <td>13.0</td>\n",
       "      <td>9.0</td>\n",
       "      <td>56.0</td>\n",
       "      <td>21.0</td>\n",
       "      <td>1023.5</td>\n",
       "      <td>1019.1</td>\n",
       "      <td>10.9</td>\n",
       "      <td>24.5</td>\n",
       "      <td>0</td>\n",
       "      <td>0</td>\n",
       "    </tr>\n",
       "    <tr>\n",
       "      <th>109521</th>\n",
       "      <td>5.4</td>\n",
       "      <td>26.9</td>\n",
       "      <td>0.0</td>\n",
       "      <td>0.0</td>\n",
       "      <td>37.0</td>\n",
       "      <td>135.0</td>\n",
       "      <td>292.5</td>\n",
       "      <td>9.0</td>\n",
       "      <td>9.0</td>\n",
       "      <td>53.0</td>\n",
       "      <td>24.0</td>\n",
       "      <td>1021.0</td>\n",
       "      <td>1016.8</td>\n",
       "      <td>12.5</td>\n",
       "      <td>26.1</td>\n",
       "      <td>0</td>\n",
       "      <td>0</td>\n",
       "    </tr>\n",
       "    <tr>\n",
       "      <th>109522</th>\n",
       "      <td>7.8</td>\n",
       "      <td>27.0</td>\n",
       "      <td>0.0</td>\n",
       "      <td>135.0</td>\n",
       "      <td>28.0</td>\n",
       "      <td>157.5</td>\n",
       "      <td>0.0</td>\n",
       "      <td>13.0</td>\n",
       "      <td>7.0</td>\n",
       "      <td>51.0</td>\n",
       "      <td>24.0</td>\n",
       "      <td>1019.4</td>\n",
       "      <td>1016.5</td>\n",
       "      <td>15.1</td>\n",
       "      <td>26.0</td>\n",
       "      <td>0</td>\n",
       "      <td>0</td>\n",
       "    </tr>\n",
       "  </tbody>\n",
       "</table>\n",
       "<p>109523 rows × 17 columns</p>\n",
       "</div>"
      ],
      "text/plain": [
       "        MinTemp  MaxTemp  Rainfall  WindGustDir  WindGustSpeed  WindDir9am  \\\n",
       "0           1.0     16.8       0.0        112.5           24.0       112.5   \n",
       "1           6.1     20.7       0.0         45.0           43.0       135.0   \n",
       "2           6.3     16.9       1.4        315.0           35.0       112.5   \n",
       "3           2.1     15.0       0.0        292.5           30.0       112.5   \n",
       "4           1.6     16.6       0.0         45.0           37.0       135.0   \n",
       "...         ...      ...       ...          ...            ...         ...   \n",
       "109518      3.5     21.8       0.0         90.0           31.0       112.5   \n",
       "109519      2.8     23.4       0.0         90.0           31.0       135.0   \n",
       "109520      3.6     25.3       0.0        337.5           22.0       135.0   \n",
       "109521      5.4     26.9       0.0          0.0           37.0       135.0   \n",
       "109522      7.8     27.0       0.0        135.0           28.0       157.5   \n",
       "\n",
       "        WindDir3pm  WindSpeed9am  WindSpeed3pm  Humidity9am  Humidity3pm  \\\n",
       "0             90.0           9.0           9.0         82.0         45.0   \n",
       "1             45.0           4.0          24.0         80.0         54.0   \n",
       "2            292.5           6.0          13.0         85.0         58.0   \n",
       "3            315.0           4.0          11.0         81.0         54.0   \n",
       "4             45.0           9.0          20.0         79.0         47.0   \n",
       "...            ...           ...           ...          ...          ...   \n",
       "109518        90.0          15.0          13.0         59.0         27.0   \n",
       "109519        67.5          13.0          11.0         51.0         24.0   \n",
       "109520         0.0          13.0           9.0         56.0         21.0   \n",
       "109521       292.5           9.0           9.0         53.0         24.0   \n",
       "109522         0.0          13.0           7.0         51.0         24.0   \n",
       "\n",
       "        Pressure9am  Pressure3pm  Temp9am  Temp3pm  RainToday  RainTomorrow  \n",
       "0            1024.9       1020.2      7.0     16.0          0             0  \n",
       "1            1016.6       1010.8     10.2     20.3          0             1  \n",
       "2            1014.4       1012.3     12.5     15.5          1             0  \n",
       "3            1019.5       1017.9      8.6     14.9          0             0  \n",
       "4            1018.4       1011.4      8.3     15.4          0             0  \n",
       "...             ...          ...      ...      ...        ...           ...  \n",
       "109518       1024.7       1021.2      9.4     20.9          0             0  \n",
       "109519       1024.6       1020.3     10.1     22.4          0             0  \n",
       "109520       1023.5       1019.1     10.9     24.5          0             0  \n",
       "109521       1021.0       1016.8     12.5     26.1          0             0  \n",
       "109522       1019.4       1016.5     15.1     26.0          0             0  \n",
       "\n",
       "[109523 rows x 17 columns]"
      ]
     },
     "execution_count": 8,
     "metadata": {},
     "output_type": "execute_result"
    }
   ],
   "source": [
    "df"
   ]
  },
  {
   "cell_type": "code",
   "execution_count": 9,
   "id": "c6aacf6d",
   "metadata": {},
   "outputs": [
    {
     "name": "stderr",
     "output_type": "stream",
     "text": [
      "C:\\Users\\kanan\\anaconda3\\envs\\weatherforecast\\lib\\site-packages\\xgboost\\compat.py:36: FutureWarning: pandas.Int64Index is deprecated and will be removed from pandas in a future version. Use pandas.Index with the appropriate dtype instead.\n",
      "  from pandas import MultiIndex, Int64Index\n"
     ]
    }
   ],
   "source": [
    "#Preprocessing from sklearn import preprocessing\n",
    "from sklearn.model_selection import train_test_split\n",
    "from sklearn.preprocessing import StandardScaler\n",
    "\n",
    "#Algos from sklearn.linear_model import LogisticRegression\n",
    "from sklearn.neighbors import KNeighborsClassifier\n",
    "from sklearn.ensemble import RandomForestClassifier\n",
    "from sklearn.svm import SVC\n",
    "from xgboost import XGBClassifier\n",
    "\n",
    "#Postprocessing from sklearn.feature_selection import SelectFromModel\n",
    "from sklearn.metrics import accuracy_score\n",
    "from xgboost import plot_importance"
   ]
  },
  {
   "cell_type": "code",
   "execution_count": 10,
   "id": "3ea4fec8",
   "metadata": {},
   "outputs": [],
   "source": [
    "# Dividing Data into features and target for classifier\n",
    "X_train = df.drop(['RainTomorrow'], axis=1)\n",
    "y_train = df['RainTomorrow']"
   ]
  },
  {
   "cell_type": "code",
   "execution_count": 11,
   "id": "87fb7a3b",
   "metadata": {},
   "outputs": [
    {
     "name": "stdout",
     "output_type": "stream",
     "text": [
      "Requirement already satisfied: imblearn in c:\\users\\kanan\\anaconda3\\envs\\weatherforecast\\lib\\site-packages (0.0)\n",
      "Requirement already satisfied: imbalanced-learn in c:\\users\\kanan\\anaconda3\\envs\\weatherforecast\\lib\\site-packages (from imblearn) (0.9.0)\n",
      "Requirement already satisfied: scikit-learn>=1.0.1 in c:\\users\\kanan\\anaconda3\\envs\\weatherforecast\\lib\\site-packages (from imbalanced-learn->imblearn) (1.0.2)\n",
      "Requirement already satisfied: joblib>=0.11 in c:\\users\\kanan\\anaconda3\\envs\\weatherforecast\\lib\\site-packages (from imbalanced-learn->imblearn) (1.1.0)\n",
      "Requirement already satisfied: numpy>=1.14.6 in c:\\users\\kanan\\anaconda3\\envs\\weatherforecast\\lib\\site-packages (from imbalanced-learn->imblearn) (1.19.2)\n",
      "Requirement already satisfied: scipy>=1.1.0 in c:\\users\\kanan\\anaconda3\\envs\\weatherforecast\\lib\\site-packages (from imbalanced-learn->imblearn) (1.6.2)\n",
      "Requirement already satisfied: threadpoolctl>=2.0.0 in c:\\users\\kanan\\anaconda3\\envs\\weatherforecast\\lib\\site-packages (from imbalanced-learn->imblearn) (2.2.0)\n",
      "Note: you may need to restart the kernel to use updated packages.\n"
     ]
    }
   ],
   "source": [
    "pip install imblearn"
   ]
  },
  {
   "cell_type": "code",
   "execution_count": 12,
   "id": "814d6a9c",
   "metadata": {},
   "outputs": [
    {
     "name": "stdout",
     "output_type": "stream",
     "text": [
      "0    92378\n",
      "1    17145\n",
      "Name: RainTomorrow, dtype: int64\n"
     ]
    },
    {
     "data": {
      "text/plain": [
       "<AxesSubplot:>"
      ]
     },
     "execution_count": 12,
     "metadata": {},
     "output_type": "execute_result"
    },
    {
     "data": {
      "image/png": "[encoded data removed]",
      "text/plain": [
       "<Figure size 432x288 with 1 Axes>"
      ]
     },
     "metadata": {
      "needs_background": "light"
     },
     "output_type": "display_data"
    }
   ],
   "source": [
    "from imblearn.over_sampling import SMOTE\n",
    "bal = SMOTE()\n",
    "\n",
    "print(y_train.value_counts())\n",
    "pd.Series(y_train).value_counts().plot.bar()"
   ]
  },
  {
   "cell_type": "code",
   "execution_count": 13,
   "id": "12694f3d",
   "metadata": {},
   "outputs": [
    {
     "data": {
      "text/plain": [
       "<AxesSubplot:>"
      ]
     },
     "execution_count": 13,
     "metadata": {},
     "output_type": "execute_result"
    },
    {
     "data": {
      "image/png": "[encoded data removed]",
      "text/plain": [
       "<Figure size 432x288 with 1 Axes>"
      ]
     },
     "metadata": {
      "needs_background": "light"
     },
     "output_type": "display_data"
    }
   ],
   "source": [
    "# balancing both classes\n",
    "X_train, y_train = bal.fit_resample(X_train, y_train)\n",
    "pd.Series(y_train).value_counts().plot.bar()"
   ]
  },
  {
   "cell_type": "code",
   "execution_count": 14,
   "id": "5aa185d0",
   "metadata": {},
   "outputs": [],
   "source": [
    "# our test dataset doesn't have a target variable, so we'll have to test on the train df using holdout \n",
    "x_train, x_test, y_train, y_test = train_test_split(X_train, y_train, test_size=0.2)"
   ]
  },
  {
   "cell_type": "code",
   "execution_count": 15,
   "id": "b050fb50",
   "metadata": {},
   "outputs": [],
   "source": [
    "sc = StandardScaler()\n",
    "x_train = sc.fit_transform(x_train)\n",
    "x_test = sc.transform(x_test)"
   ]
  },
  {
   "cell_type": "code",
   "execution_count": 16,
   "id": "a61dbdb5",
   "metadata": {},
   "outputs": [
    {
     "data": {
      "text/plain": [
       "RandomForestClassifier(criterion='entropy', random_state=0)"
      ]
     },
     "execution_count": 16,
     "metadata": {},
     "output_type": "execute_result"
    }
   ],
   "source": [
    "from sklearn.ensemble import RandomForestClassifier\n",
    "classifier = RandomForestClassifier(n_estimators = 100, criterion = 'entropy', random_state = 0)\n",
    "classifier.fit(x_train, y_train)"
   ]
  },
  {
   "cell_type": "code",
   "execution_count": 17,
   "id": "2e77a57e",
   "metadata": {},
   "outputs": [],
   "source": [
    "y_pred = classifier.predict(x_test)"
   ]
  },
  {
   "cell_type": "code",
   "execution_count": 18,
   "id": "0283a9f9",
   "metadata": {},
   "outputs": [
    {
     "name": "stdout",
     "output_type": "stream",
     "text": [
      "[[16756  1533]\n",
      " [ 1721 16942]]\n"
     ]
    },
    {
     "data": {
      "text/plain": [
       "0.9119398138125135"
      ]
     },
     "execution_count": 18,
     "metadata": {},
     "output_type": "execute_result"
    }
   ],
   "source": [
    "from sklearn.metrics import confusion_matrix, accuracy_score\n",
    "cm = confusion_matrix(y_test, y_pred)\n",
    "print(cm)\n",
    "accuracy_score(y_test, y_pred)"
   ]
  },
  {
   "cell_type": "code",
   "execution_count": 19,
   "id": "cd29d7da",
   "metadata": {},
   "outputs": [
    {
     "name": "stdout",
     "output_type": "stream",
     "text": [
      "Precision is :  0.91702300405954\n",
      "Accuracy is :  0.9119398138125135\n",
      "Recall is :  0.9077854578577935\n",
      "F1 score is :  0.9123808498034358\n"
     ]
    }
   ],
   "source": [
    "from sklearn.metrics import precision_score,accuracy_score,f1_score,recall_score\n",
    "\n",
    "print(\"Precision is : \",precision_score(y_test, y_pred))\n",
    "print(\"Accuracy is : \",accuracy_score(y_test, y_pred))\n",
    "print(\"Recall is : \",recall_score(y_test, y_pred))\n",
    "print(\"F1 score is : \",f1_score(y_test, y_pred))"
   ]
  },
  {
   "cell_type": "code",
   "execution_count": null,
   "id": "fbb24b58",
   "metadata": {},
   "outputs": [],
   "source": []
  }
 ],
 "metadata": {
  "kernelspec": {
   "display_name": "Python 3.8.5 ('base')",
   "language": "python",
   "name": "python3"
  },
  "language_info": {
   "codemirror_mode": {
    "name": "ipython",
    "version": 3
   },
   "file_extension": ".py",
   "mimetype": "text/x-python",
   "name": "python",
   "nbconvert_exporter": "python",
   "pygments_lexer": "ipython3",
   "version": "3.8.5"
  },
  "vscode": {
   "interpreter": {
    "hash": "8af640f01dbf9b812ae225ad9b9dae69c52c66398309019639f5e4bc8c248864"
   }
  }
 },
 "nbformat": 4,
 "nbformat_minor": 5
}
