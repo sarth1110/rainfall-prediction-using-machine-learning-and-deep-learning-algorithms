{
 "cells": [
  {
   "cell_type": "code",
   "execution_count": 1,
   "id": "a4bc4201",
   "metadata": {},
   "outputs": [
    {
     "name": "stderr",
     "output_type": "stream",
     "text": [
      "C:\\Users\\kanan\\anaconda3\\envs\\weatherforecast\\lib\\site-packages\\xgboost\\compat.py:36: FutureWarning: pandas.Int64Index is deprecated and will be removed from pandas in a future version. Use pandas.Index with the appropriate dtype instead.\n",
      "  from pandas import MultiIndex, Int64Index\n"
     ]
    }
   ],
   "source": [
    "import numpy as np\n",
    "import matplotlib.pyplot as plt\n",
    "import pandas as pd\n",
    "\n",
    "import xgboost\n",
    "\n",
    "from sklearn.preprocessing import LabelEncoder\n",
    "from sklearn.model_selection import train_test_split\n",
    "from sklearn.metrics import mean_absolute_error, mean_squared_error, r2_score\n",
    "from sklearn.preprocessing import StandardScaler\n",
    "\n",
    "\n",
    "from keras.models import Sequential\n",
    "from keras.layers import Dense, LSTM, BatchNormalization\n",
    "from keras.optimizers import Adam\n",
    "from keras.callbacks import ReduceLROnPlateau, EarlyStopping\n",
    "from keras.regularizers import l2\n",
    "from time import time\n",
    "\n",
    "# prepare data for lstm\n",
    "from pandas import read_csv\n",
    "from pandas import DataFrame\n",
    "from pandas import concat"
   ]
  },
  {
   "cell_type": "code",
   "execution_count": 2,
   "id": "bf5d36e4",
   "metadata": {},
   "outputs": [
    {
     "name": "stdout",
     "output_type": "stream",
     "text": [
      "{'N': 0, 'NNE': 22.5, 'NE': 45.0, 'ENE': 67.5, 'E': 90.0, 'ESE': 112.5, 'SE': 135.0, 'SSE': 157.5, 'S': 180.0, 'SSW': 202.5, 'SW': 225.0, 'WSW': 247.5, 'W': 270.0, 'WNW': 292.5, 'NW': 315.0, 'NNW': 337.5}\n",
      "['RainToday']\n"
     ]
    }
   ],
   "source": [
    "#Reading the CSV file\n",
    "df = pd.read_csv(\"C:\\\\Users\\\\kanan\\\\Desktop\\\\Study Material\\\\In-house CP\\\\Untitled Folder\\\\cleaned_weatherAUS.csv\")\n",
    "\n",
    "Direction = ['N','NNE','NE','ENE','E','ESE','SE','SSE','S','SSW','SW','WSW','W','WNW','NW','NNW']\n",
    "Degree = []\n",
    "\n",
    "x = 0\n",
    "for i in range(0,337,22):\n",
    "    Degree.append(i+x)\n",
    "    x = x + 0.5\n",
    "    \n",
    "Direction_Degree = dict(zip(Direction,Degree))\n",
    "print(Direction_Degree)\n",
    "\n",
    "#Converting WindGustDir, WindDir9am, WindDir3pm to degree format\n",
    "\n",
    "df = df.replace({\"WindGustDir\": Direction_Degree})\n",
    "df = df.replace({\"WindDir9am\": Direction_Degree})\n",
    "df = df.replace({\"WindDir3pm\": Direction_Degree})\n",
    "\n",
    "df = df.drop(columns = ['Date','Location','RainTomorrow'],axis=1)\n",
    "\n",
    "from sklearn.preprocessing import LabelEncoder\n",
    "\n",
    "cat_f = [x for x in df.columns if df[x].dtype == 'object']\n",
    "print(cat_f)\n",
    "\n",
    "# traversing all columns for converting into continuous valriables\n",
    "for name in cat_f:\n",
    "    enc = LabelEncoder()\n",
    "    enc.fit(list(df[name].values.astype('str')) + list(df[name].values.astype('str')))\n",
    "    df[name] = enc.transform(df[name].values.astype('str'))"
   ]
  },
  {
   "cell_type": "code",
   "execution_count": null,
   "id": "da31f5a4",
   "metadata": {},
   "outputs": [],
   "source": []
  },
  {
   "cell_type": "code",
   "execution_count": 3,
   "id": "a769ec79",
   "metadata": {},
   "outputs": [],
   "source": [
    "# Dividing Data into features and target for classifier\n",
    "X = df.drop(['Rainfall'], axis=1)\n",
    "Y = df['Rainfall']"
   ]
  },
  {
   "cell_type": "code",
   "execution_count": 4,
   "id": "4f405613",
   "metadata": {},
   "outputs": [],
   "source": [
    "# our test dataset doesn't have a target variable, so we'll have to test on the train df using holdout \n",
    "x_train, x_test, y_train, y_test = train_test_split(X, Y, test_size=0.2)"
   ]
  },
  {
   "cell_type": "code",
   "execution_count": 5,
   "id": "5be76ff6",
   "metadata": {},
   "outputs": [],
   "source": [
    "sc = StandardScaler()\n",
    "x_train = sc.fit_transform(x_train)\n",
    "x_test = sc.transform(x_test)"
   ]
  },
  {
   "cell_type": "code",
   "execution_count": 6,
   "id": "9a837128",
   "metadata": {},
   "outputs": [
    {
     "name": "stdout",
     "output_type": "stream",
     "text": [
      "[15:39:51] WARNING: C:/Users/Administrator/workspace/xgboost-win64_release_1.5.1/src/objective/regression_obj.cu:188: reg:linear is now deprecated in favor of reg:squarederror.\n"
     ]
    }
   ],
   "source": [
    "model = xgboost.XGBRegressor(objective ='reg:linear',\n",
    "                  n_estimators = 1000, seed = 0).fit(x_train, y_train)"
   ]
  },
  {
   "cell_type": "code",
   "execution_count": 7,
   "id": "c56a5d06",
   "metadata": {},
   "outputs": [],
   "source": [
    "results = model.predict(x_test)"
   ]
  },
  {
   "cell_type": "code",
   "execution_count": 8,
   "id": "4b84aa4e",
   "metadata": {
    "scrolled": true
   },
   "outputs": [
    {
     "name": "stdout",
     "output_type": "stream",
     "text": [
      "0.04066601976472775\n",
      "0.12147781713032867\n",
      "0.7372001294403192\n"
     ]
    }
   ],
   "source": [
    "print(mean_squared_error(y_test, results))\n",
    "print(mean_absolute_error(y_test, results))\n",
    "print(r2_score(y_test,results))"
   ]
  }
 ],
 "metadata": {
  "kernelspec": {
   "display_name": "Python 3.8.5 ('base')",
   "language": "python",
   "name": "python3"
  },
  "language_info": {
   "codemirror_mode": {
    "name": "ipython",
    "version": 3
   },
   "file_extension": ".py",
   "mimetype": "text/x-python",
   "name": "python",
   "nbconvert_exporter": "python",
   "pygments_lexer": "ipython3",
   "version": "3.8.5"
  },
  "vscode": {
   "interpreter": {
    "hash": "8af640f01dbf9b812ae225ad9b9dae69c52c66398309019639f5e4bc8c248864"
   }
  }
 },
 "nbformat": 4,
 "nbformat_minor": 5
}
